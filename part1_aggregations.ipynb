{
 "cells": [
  {
   "cell_type": "code",
   "execution_count": 1,
   "metadata": {
    "pycharm": {
     "is_executing": true
    }
   },
   "outputs": [],
   "source": [
    "import csv\n",
    "import string\n",
    "from time import time  # To time our operations\n",
    "import multiprocessing\n",
    "import nltk\n",
    "from nltk.corpus import stopwords"
   ]
  },
  {
   "cell_type": "code",
   "execution_count": 2,
   "metadata": {
    "pycharm": {
     "is_executing": true,
     "name": "#%%\n"
    }
   },
   "outputs": [
    {
     "name": "stderr",
     "output_type": "stream",
     "text": [
      "[nltk_data] Downloading package punkt to\n",
      "[nltk_data]     C:\\Users\\JesterPC\\AppData\\Roaming\\nltk_data...\n",
      "[nltk_data]   Package punkt is already up-to-date!\n",
      "[nltk_data] Downloading package stopwords to\n",
      "[nltk_data]     C:\\Users\\JesterPC\\AppData\\Roaming\\nltk_data...\n",
      "[nltk_data]   Package stopwords is already up-to-date!\n"
     ]
    },
    {
     "data": {
      "text/plain": [
       "True"
      ]
     },
     "execution_count": 2,
     "metadata": {},
     "output_type": "execute_result"
    }
   ],
   "source": [
    "nltk.download('punkt')\n",
    "nltk.download('stopwords')"
   ]
  },
  {
   "cell_type": "code",
   "execution_count": 3,
   "metadata": {
    "pycharm": {
     "is_executing": true,
     "name": "#%%\n"
    }
   },
   "outputs": [
    {
     "name": "stdout",
     "output_type": "stream",
     "text": [
      "Time to tokenize: 41.07 mins\n"
     ]
    }
   ],
   "source": [
    "# Count the number of cores in a computer\n",
    "cores = multiprocessing.cpu_count()\n",
    "t = time()\n",
    "\n",
    "sentences = []\n",
    "full_words = []\n",
    "words = []\n",
    "\n",
    "with open(\"data/data_origin.DUMP\", encoding=\"utf8\") as tsv:\n",
    "\n",
    "    for line in csv.reader(tsv, dialect=\"excel-tab\"):\n",
    "        sentence = line[2]\n",
    "\n",
    "        # trim punctuation, make it lowercase\n",
    "        sentence = sentence.translate(str.maketrans('', '', string.punctuation)).lower()\n",
    "\n",
    "        cleared_words = []\n",
    "\n",
    "        all_words = nltk.word_tokenize(sentence)\n",
    "\n",
    "        for word in all_words:\n",
    "            full_words.append(word)\n",
    "            if word not in stopwords.words('turkish'):\n",
    "                cleared_words.append(word)\n",
    "                words.append(word)\n",
    "\n",
    "        sentences.append(cleared_words)\n",
    "        \n",
    "print('Time to tokenize: {} mins'.format(round((time() - t) / 60, 2)))"
   ]
  },
  {
   "cell_type": "code",
   "execution_count": 11,
   "metadata": {
    "pycharm": {
     "name": "#%%\n"
    }
   },
   "outputs": [
    {
     "name": "stdout",
     "output_type": "stream",
     "text": [
      "Number of sentences: 654866\n",
      "Number of words: 9480815\n",
      "Number of chars: 60516939\n",
      "Avr number of words per sentence: 14.477488524369871\n",
      "Avr number of chars per sentence: 92.41117877550522\n"
     ]
    }
   ],
   "source": [
    "sentences_length = len(sentences)\n",
    "print('Number of sentences: ' + str(sentences_length))\n",
    "      \n",
    "words_length = len(full_words)\n",
    "print('Number of words: ' + str(words_length))\n",
    "\n",
    "chars_length = 0\n",
    "for word in full_words:\n",
    "    chars_length += len(word)\n",
    "print('Number of chars: ' + str(chars_length))\n",
    "      \n",
    "avr_words_per_sentence = words_length / sentences_length\n",
    "print('Avr number of words per sentence: ' + str(avr_words_per_sentence))\n",
    "    \n",
    "avr_chars_per_sentence = chars_length / sentences_length\n",
    "print('Avr number of chars per sentence: ' + str(avr_chars_per_sentence))"
   ]
  }
 ],
 "metadata": {
  "kernelspec": {
   "display_name": "Python 3",
   "language": "python",
   "name": "python3"
  },
  "language_info": {
   "codemirror_mode": {
    "name": "ipython",
    "version": 3
   },
   "file_extension": ".py",
   "mimetype": "text/x-python",
   "name": "python",
   "nbconvert_exporter": "python",
   "pygments_lexer": "ipython3",
   "version": "3.7.7"
  },
  "pycharm": {
   "stem_cell": {
    "cell_type": "raw",
    "source": [],
    "metadata": {
     "collapsed": false
    }
   }
  }
 },
 "nbformat": 4,
 "nbformat_minor": 1
}