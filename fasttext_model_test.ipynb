{
 "cells": [
  {
   "cell_type": "code",
   "execution_count": 1,
   "metadata": {},
   "outputs": [
    {
     "name": "stdout",
     "output_type": "stream",
     "text": [
      "[('teachers', 0.7622906565666199), ('teaches', 0.7437460422515869), ('teaching', 0.6959609985351562), ('teach', 0.6827675104141235), ('teachersday', 0.6747387647628784), ('Headteacher', 0.6586697697639465), ('student', 0.656451940536499), ('lessons', 0.6119470596313477), ('Teacher', 0.6101343631744385), ('school', 0.6075577139854431)]\n",
      "0.7437459\n"
     ]
    }
   ],
   "source": [
    "from gensim.models.wrappers import FastText\n",
    "\n",
    "model = FastText.load_fasttext_format(model_file='models/fasttext/cc.tr.300.bin')\n",
    "\n",
    "print(model.most_similar('teacher'))\n",
    "\n",
    "print(model.similarity('teacher', 'teaches'))\n"
   ]
  },
  {
   "cell_type": "code",
   "execution_count": null,
   "outputs": [],
   "source": [
    "print(model.most_similar('kapı'))"
   ],
   "metadata": {
    "collapsed": false,
    "pycharm": {
     "name": "#%%\n"
    }
   }
  },
  {
   "cell_type": "code",
   "execution_count": null,
   "outputs": [],
   "source": [
    "print(len(model.wv['kapı']))"
   ],
   "metadata": {
    "collapsed": false,
    "pycharm": {
     "name": "#%%\n"
    }
   }
  },
  {
   "cell_type": "code",
   "execution_count": 2,
   "metadata": {},
   "outputs": [
    {
     "name": "stdout",
     "output_type": "stream",
     "text": [
      "[('Kapı', 0.7464752197265625), ('kapılar', 0.7203058004379272), ('kapının', 0.7144469022750854), ('kapıları', 0.7016156315803528), ('kapıların', 0.6724050641059875), ('kapısı', 0.6511682271957397), ('kapıyı', 0.6335686445236206), ('kapı.', 0.6177538633346558), ('çalınmadık', 0.6175891160964966), ('kapılarınızı', 0.5941848158836365)]\n"
     ]
    }
   ],
   "source": []
  },
  {
   "cell_type": "code",
   "execution_count": 6,
   "metadata": {},
   "outputs": [
    {
     "name": "stdout",
     "output_type": "stream",
     "text": [
      "300\n"
     ]
    }
   ],
   "source": [
    "print(len(model.wv['kapı']))"
   ]
  },
  {
   "cell_type": "code",
   "execution_count": null,
   "metadata": {},
   "outputs": [],
   "source": []
  }
 ],
 "metadata": {
  "kernelspec": {
   "display_name": "Python 3",
   "language": "python",
   "name": "python3"
  },
  "language_info": {
   "codemirror_mode": {
    "name": "ipython",
    "version": 3
   },
   "file_extension": ".py",
   "mimetype": "text/x-python",
   "name": "python",
   "nbconvert_exporter": "python",
   "pygments_lexer": "ipython3",
   "version": "3.7.7"
  },
  "pycharm": {
   "stem_cell": {
    "cell_type": "raw",
    "source": [],
    "metadata": {
     "collapsed": false
    }
   }
  }
 },
 "nbformat": 4,
 "nbformat_minor": 1
}