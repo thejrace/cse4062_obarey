{
 "cells": [
  {
   "cell_type": "code",
   "execution_count": 1,
   "metadata": {
    "pycharm": {
     "is_executing": false,
     "name": "#%%\n"
    }
   },
   "outputs": [],
   "source": [
    "\"\"\"\n",
    "Part 3: \n",
    "    Objective: Calculate category centroids and measure cosine similarities of words to each category centroid.\n",
    "\"\"\"\n",
    "import sys\n",
    "from time import time\n",
    "\n",
    "from gensim.models.wrappers import FastText"
   ]
  },
  {
   "cell_type": "code",
   "execution_count": 2,
   "metadata": {
    "pycharm": {
     "is_executing": false,
     "name": "#%%\n"
    }
   },
   "outputs": [],
   "source": [
    "category_list = [\n",
    "    'Person', 'Location', 'Event', 'Organization', 'DateTime', 'PersonType', 'Currency', 'Nationality', 'Ethnicity', 'Thing'\n",
    "]"
   ]
  },
  {
   "cell_type": "code",
   "execution_count": 3,
   "metadata": {
    "pycharm": {
     "is_executing": true,
     "name": "#%%\n"
    }
   },
   "outputs": [
    {
     "name": "stdout",
     "output_type": "stream",
     "text": [
      "Time to load the model: 4.3 mins\n"
     ]
    }
   ],
   "source": [
    "t = time()\n",
    "# Load pre trained model\n",
    "w2v_model = FastText.load_fasttext_format(model_file='models/fasttext/cc.tr.300.bin')\n",
    "\n",
    "print('Time to load the model: {} mins'.format(round((time() - t) / 60, 2)))"
   ]
  },
  {
   "cell_type": "code",
   "execution_count": 6,
   "metadata": {},
   "outputs": [
    {
     "name": "stdout",
     "output_type": "stream",
     "text": [
      "132188Time to vectorize categories: 0.49 mins\n"
     ]
    }
   ],
   "source": [
    "import pandas as pd\n",
    "\n",
    "t = time()\n",
    "\n",
    "category_vectors = {}\n",
    "for category in category_list:\n",
    "    category_vectors[category] = []\n",
    "    \n",
    "# Read labeled words\n",
    "df = pd.read_excel('data/labeled_words_single_v3.xlsx')\n",
    "\n",
    "counter = 0\n",
    "hit_word_count = 0\n",
    "# Read Excel file and fill the dictionary\n",
    "for row in df.index:\n",
    "    word = str(df['Word'][row])\n",
    "    label = df['Label'][row]\n",
    "    \n",
    "    if word in w2v_model.wv:\n",
    "        hit_word_count += 1\n",
    "        category_vectors[label].append(w2v_model.wv[word])\n",
    "    \n",
    "    counter += 1\n",
    "    sys.stdout.write('\\r'+str(counter))\n",
    "\n",
    "print('Time to vectorize categories: {} mins'.format(round((time() - t) / 60, 2)))"
   ]
  },
  {
   "cell_type": "code",
   "execution_count": 7,
   "metadata": {
    "pycharm": {
     "name": "#%%\n"
    }
   },
   "outputs": [
    {
     "name": "stdout",
     "output_type": "stream",
     "text": [
      "Missed 1738 from 132188\n"
     ]
    }
   ],
   "source": [
    "#print(category_vectors['Person'])\n",
    "print('Missed ' + str(counter - hit_word_count) + ' from ' + str(counter))"
   ]
  },
  {
   "cell_type": "code",
   "execution_count": 8,
   "metadata": {},
   "outputs": [
    {
     "name": "stdout",
     "output_type": "stream",
     "text": [
      "Time to calculate centroids: 0.01 mins\n"
     ]
    }
   ],
   "source": [
    "import numpy as np\n",
    "\n",
    "t = time()\n",
    "\n",
    "centroids = {}\n",
    "#for category in category_list:\n",
    "#    centroids[category] = [] \n",
    "\n",
    "for category in category_list:\n",
    "    centroids[category] = np.sum(category_vectors[category], axis=0) / len(category_vectors[category])\n",
    "    \n",
    "print('Time to calculate centroids: {} mins'.format(round((time() - t) / 60, 2)))"
   ]
  },
  {
   "cell_type": "code",
   "execution_count": 9,
   "metadata": {},
   "outputs": [],
   "source": [
    "#print(category_vectors['Person'][0])  # -5.33770142e+02  --- -9.28570423e-03\n",
    "#print(len(category_vectors['Person']))\n",
    "#print(centroids['Person'])"
   ]
  },
  {
   "cell_type": "code",
   "execution_count": 10,
   "metadata": {},
   "outputs": [
    {
     "name": "stdout",
     "output_type": "stream",
     "text": [
      "132188Time to calculate features categories: 86.47 mins\n"
     ]
    },
    {
     "data": {
      "text/html": [
       "<div>\n",
       "<style scoped>\n",
       "    .dataframe tbody tr th:only-of-type {\n",
       "        vertical-align: middle;\n",
       "    }\n",
       "\n",
       "    .dataframe tbody tr th {\n",
       "        vertical-align: top;\n",
       "    }\n",
       "\n",
       "    .dataframe thead th {\n",
       "        text-align: right;\n",
       "    }\n",
       "</style>\n",
       "<table border=\"1\" class=\"dataframe\">\n",
       "  <thead>\n",
       "    <tr style=\"text-align: right;\">\n",
       "      <th></th>\n",
       "      <th>Currency</th>\n",
       "      <th>DateTime</th>\n",
       "      <th>Ethnicity</th>\n",
       "      <th>Event</th>\n",
       "      <th>Label</th>\n",
       "      <th>Location</th>\n",
       "      <th>Nationality</th>\n",
       "      <th>Organization</th>\n",
       "      <th>Person</th>\n",
       "      <th>PersonType</th>\n",
       "      <th>Thing</th>\n",
       "      <th>Word</th>\n",
       "    </tr>\n",
       "  </thead>\n",
       "  <tbody>\n",
       "    <tr>\n",
       "      <th>0</th>\n",
       "      <td>0.273349</td>\n",
       "      <td>0.110858</td>\n",
       "      <td>0.360196</td>\n",
       "      <td>0.347695</td>\n",
       "      <td>Person</td>\n",
       "      <td>0.511219</td>\n",
       "      <td>0.338397</td>\n",
       "      <td>0.473211</td>\n",
       "      <td>0.620924</td>\n",
       "      <td>0.335272</td>\n",
       "      <td>0.376251</td>\n",
       "      <td>Corina</td>\n",
       "    </tr>\n",
       "    <tr>\n",
       "      <th>1</th>\n",
       "      <td>0.186871</td>\n",
       "      <td>0.174768</td>\n",
       "      <td>0.238327</td>\n",
       "      <td>0.291291</td>\n",
       "      <td>Person</td>\n",
       "      <td>0.329679</td>\n",
       "      <td>0.221148</td>\n",
       "      <td>0.323822</td>\n",
       "      <td>0.419146</td>\n",
       "      <td>0.315501</td>\n",
       "      <td>0.323541</td>\n",
       "      <td>Casanova</td>\n",
       "    </tr>\n",
       "    <tr>\n",
       "      <th>2</th>\n",
       "      <td>0.203083</td>\n",
       "      <td>0.050742</td>\n",
       "      <td>0.076906</td>\n",
       "      <td>0.177083</td>\n",
       "      <td>Location</td>\n",
       "      <td>0.098033</td>\n",
       "      <td>0.140946</td>\n",
       "      <td>0.174271</td>\n",
       "      <td>0.097719</td>\n",
       "      <td>0.122597</td>\n",
       "      <td>0.129025</td>\n",
       "      <td>İsviçre</td>\n",
       "    </tr>\n",
       "    <tr>\n",
       "      <th>3</th>\n",
       "      <td>0.220789</td>\n",
       "      <td>0.272169</td>\n",
       "      <td>0.279574</td>\n",
       "      <td>0.322181</td>\n",
       "      <td>PersonType</td>\n",
       "      <td>0.306717</td>\n",
       "      <td>0.248588</td>\n",
       "      <td>0.309686</td>\n",
       "      <td>0.287089</td>\n",
       "      <td>0.291445</td>\n",
       "      <td>0.334109</td>\n",
       "      <td>Şansölyesidir</td>\n",
       "    </tr>\n",
       "    <tr>\n",
       "      <th>4</th>\n",
       "      <td>0.208029</td>\n",
       "      <td>0.079137</td>\n",
       "      <td>0.218094</td>\n",
       "      <td>0.160399</td>\n",
       "      <td>PersonType</td>\n",
       "      <td>0.218144</td>\n",
       "      <td>0.227898</td>\n",
       "      <td>0.228069</td>\n",
       "      <td>0.279599</td>\n",
       "      <td>0.466141</td>\n",
       "      <td>0.193471</td>\n",
       "      <td>avukat</td>\n",
       "    </tr>\n",
       "  </tbody>\n",
       "</table>\n",
       "</div>"
      ],
      "text/plain": [
       "   Currency  DateTime  Ethnicity     Event       Label  Location  Nationality  \\\n",
       "0  0.273349  0.110858   0.360196  0.347695      Person  0.511219     0.338397   \n",
       "1  0.186871  0.174768   0.238327  0.291291      Person  0.329679     0.221148   \n",
       "2  0.203083  0.050742   0.076906  0.177083    Location  0.098033     0.140946   \n",
       "3  0.220789  0.272169   0.279574  0.322181  PersonType  0.306717     0.248588   \n",
       "4  0.208029  0.079137   0.218094  0.160399  PersonType  0.218144     0.227898   \n",
       "\n",
       "   Organization    Person  PersonType     Thing           Word  \n",
       "0      0.473211  0.620924    0.335272  0.376251         Corina  \n",
       "1      0.323822  0.419146    0.315501  0.323541       Casanova  \n",
       "2      0.174271  0.097719    0.122597  0.129025        İsviçre  \n",
       "3      0.309686  0.287089    0.291445  0.334109  Şansölyesidir  \n",
       "4      0.228069  0.279599    0.466141  0.193471         avukat  "
      ]
     },
     "execution_count": 10,
     "metadata": {},
     "output_type": "execute_result"
    }
   ],
   "source": [
    "import pandas as pd\n",
    "\n",
    "from numpy import dot\n",
    "from numpy.linalg import norm\n",
    "\n",
    "t = time()\n",
    "\n",
    "# features will be stored in this dataframe\n",
    "output_df = pd.DataFrame()\n",
    "\n",
    "# Read labeled words\n",
    "df = pd.read_excel('data/labeled_words_single_v3.xlsx')\n",
    "\n",
    "counter = 0\n",
    "\n",
    "\n",
    "# Read Excel file and fill the dictionary\n",
    "for row in df.index:\n",
    "    word = str(df['Word'][row])\n",
    "    label = str(df['Label'][row])\n",
    "\n",
    "    if word in w2v_model.wv:\n",
    "        \n",
    "        output = { 'Word': word, 'Label': label  }\n",
    "        \n",
    "        # calculate distance to each centroid\n",
    "        for category in category_list:\n",
    "            output[category] = dot(w2v_model.wv[word], centroids[category])/(norm(w2v_model.wv[word])*norm(centroids[category]))\n",
    "            #output[category] = 1 - spatial.distance.cosine(w2v_model.wv[word],centroids[category])\n",
    "            \n",
    "        \n",
    "        output_df = output_df.append(output, ignore_index=True)\n",
    "        \n",
    "    counter += 1\n",
    "    #if counter == 1000:\n",
    "        #break\n",
    "    sys.stdout.write('\\r'+str(counter))\n",
    "\n",
    "# df[\"Person\"] = pd.to_numeric(df[\"Person\"])\n",
    "print('Time to calculate features categories: {} mins'.format(round((time() - t) / 60, 2)))\n",
    "output_df.head(5)\n",
    "# print('Missed ' + str(counter - hit_word_count) + ' from ' + str(counter))"
   ]
  },
  {
   "cell_type": "code",
   "execution_count": 11,
   "metadata": {},
   "outputs": [
    {
     "name": "stdout",
     "output_type": "stream",
     "text": [
      "Time to save: 0.925 mins\n"
     ]
    }
   ],
   "source": [
    "t = time()\n",
    "\n",
    "writer = pd.ExcelWriter('data/centroid_distances_v3.xlsx', engine='xlsxwriter')\n",
    "\n",
    "# Convert the dataframe to an XlsxWriter Excel object.\n",
    "output_df.to_excel(writer, sheet_name='Sheet1', index=False)\n",
    "\n",
    "# Close the Pandas Excel writer and output the Excel file.\n",
    "writer.save()\n",
    "print('Time to save: {} mins'.format(round((time() - t) / 60, 4)))"
   ]
  },
  {
   "cell_type": "code",
   "execution_count": 17,
   "metadata": {},
   "outputs": [
    {
     "data": {
      "text/plain": [
       "Currency             0.259803\n",
       "DateTime             0.406465\n",
       "Ethnicity            0.407744\n",
       "Event                0.445915\n",
       "Label                Location\n",
       "Location             0.533138\n",
       "Nationality          0.414596\n",
       "Organization         0.478263\n",
       "Person                0.39975\n",
       "PersonType           0.402069\n",
       "Thing                 0.38728\n",
       "Word            Slovakya'daki\n",
       "Name: 183, dtype: object"
      ]
     },
     "execution_count": 17,
     "metadata": {},
     "output_type": "execute_result"
    }
   ],
   "source": [
    "output_df.loc[183]"
   ]
  },
  {
   "cell_type": "code",
   "execution_count": 18,
   "metadata": {},
   "outputs": [
    {
     "name": "stdout",
     "output_type": "stream",
     "text": [
      "132188Time to filter out features: 60.94 mins\n"
     ]
    },
    {
     "data": {
      "text/html": [
       "<div>\n",
       "<style scoped>\n",
       "    .dataframe tbody tr th:only-of-type {\n",
       "        vertical-align: middle;\n",
       "    }\n",
       "\n",
       "    .dataframe tbody tr th {\n",
       "        vertical-align: top;\n",
       "    }\n",
       "\n",
       "    .dataframe thead th {\n",
       "        text-align: right;\n",
       "    }\n",
       "</style>\n",
       "<table border=\"1\" class=\"dataframe\">\n",
       "  <thead>\n",
       "    <tr style=\"text-align: right;\">\n",
       "      <th></th>\n",
       "      <th>All Capital</th>\n",
       "      <th>Contains Number</th>\n",
       "      <th>Label</th>\n",
       "      <th>Length</th>\n",
       "      <th>Start Capital</th>\n",
       "      <th>Word</th>\n",
       "    </tr>\n",
       "  </thead>\n",
       "  <tbody>\n",
       "    <tr>\n",
       "      <th>0</th>\n",
       "      <td>0.0</td>\n",
       "      <td>0.0</td>\n",
       "      <td>Person</td>\n",
       "      <td>6.0</td>\n",
       "      <td>1.0</td>\n",
       "      <td>Corina</td>\n",
       "    </tr>\n",
       "    <tr>\n",
       "      <th>1</th>\n",
       "      <td>0.0</td>\n",
       "      <td>0.0</td>\n",
       "      <td>Person</td>\n",
       "      <td>8.0</td>\n",
       "      <td>1.0</td>\n",
       "      <td>Casanova</td>\n",
       "    </tr>\n",
       "    <tr>\n",
       "      <th>2</th>\n",
       "      <td>0.0</td>\n",
       "      <td>0.0</td>\n",
       "      <td>Location</td>\n",
       "      <td>7.0</td>\n",
       "      <td>1.0</td>\n",
       "      <td>İsviçre</td>\n",
       "    </tr>\n",
       "    <tr>\n",
       "      <th>3</th>\n",
       "      <td>0.0</td>\n",
       "      <td>0.0</td>\n",
       "      <td>PersonType</td>\n",
       "      <td>13.0</td>\n",
       "      <td>1.0</td>\n",
       "      <td>Şansölyesidir</td>\n",
       "    </tr>\n",
       "    <tr>\n",
       "      <th>4</th>\n",
       "      <td>0.0</td>\n",
       "      <td>0.0</td>\n",
       "      <td>PersonType</td>\n",
       "      <td>6.0</td>\n",
       "      <td>0.0</td>\n",
       "      <td>avukat</td>\n",
       "    </tr>\n",
       "  </tbody>\n",
       "</table>\n",
       "</div>"
      ],
      "text/plain": [
       "   All Capital  Contains Number       Label  Length  Start Capital  \\\n",
       "0          0.0              0.0      Person     6.0            1.0   \n",
       "1          0.0              0.0      Person     8.0            1.0   \n",
       "2          0.0              0.0    Location     7.0            1.0   \n",
       "3          0.0              0.0  PersonType    13.0            1.0   \n",
       "4          0.0              0.0  PersonType     6.0            0.0   \n",
       "\n",
       "            Word  \n",
       "0         Corina  \n",
       "1       Casanova  \n",
       "2        İsviçre  \n",
       "3  Şansölyesidir  \n",
       "4         avukat  "
      ]
     },
     "execution_count": 18,
     "metadata": {},
     "output_type": "execute_result"
    }
   ],
   "source": [
    "t = time()\n",
    "\n",
    "df = pd.read_excel('data/featuresv3.xlsx')\n",
    "features_df = pd.DataFrame()\n",
    "counter = 0\n",
    "\n",
    "\n",
    "# Read Excel file and fill the dictionary\n",
    "for row in df.index:\n",
    "    word = str(df['Word'][row])\n",
    "    label = str(df['Label'][row])\n",
    "\n",
    "    if word in w2v_model.wv:\n",
    "        \n",
    "        output = { 'Word': word, 'Label': label, 'Length':df['Length'][row], 'All Capital':df['All Capital'][row], 'Start Capital':df['Start Capital'][row], 'Contains Number':df['Contains Number'][row]  }\n",
    "        \n",
    "        features_df = features_df.append(output, ignore_index=True)\n",
    "        \n",
    "    counter += 1\n",
    "    #if counter == 1000:\n",
    "        #break\n",
    "    sys.stdout.write('\\r'+str(counter))\n",
    "\n",
    "# df[\"Person\"] = pd.to_numeric(df[\"Person\"])\n",
    "print('Time to filter out features: {} mins'.format(round((time() - t) / 60, 2)))\n",
    "features_df.head(5)\n",
    "# print('Missed ' + str(counter - hit_word_count) + ' from ' + str(counter))"
   ]
  },
  {
   "cell_type": "code",
   "execution_count": 19,
   "metadata": {},
   "outputs": [
    {
     "name": "stdout",
     "output_type": "stream",
     "text": [
      "Time to save: 0.4607 mins\n"
     ]
    }
   ],
   "source": [
    "t = time()\n",
    "\n",
    "writer = pd.ExcelWriter('data/features_filtered.xlsx', engine='xlsxwriter')\n",
    "\n",
    "# Convert the dataframe to an XlsxWriter Excel object.\n",
    "features_df.to_excel(writer, sheet_name='Sheet1', index=False)\n",
    "\n",
    "# Close the Pandas Excel writer and output the Excel file.\n",
    "writer.save()\n",
    "print('Time to save: {} mins'.format(round((time() - t) / 60, 4)))"
   ]
  }
 ],
 "metadata": {
  "kernelspec": {
   "display_name": "Python 3",
   "language": "python",
   "name": "python3"
  },
  "language_info": {
   "codemirror_mode": {
    "name": "ipython",
    "version": 3
   },
   "file_extension": ".py",
   "mimetype": "text/x-python",
   "name": "python",
   "nbconvert_exporter": "python",
   "pygments_lexer": "ipython3",
   "version": "3.7.7"
  },
  "pycharm": {
   "stem_cell": {
    "cell_type": "raw",
    "metadata": {
     "collapsed": false
    },
    "source": []
   }
  }
 },
 "nbformat": 4,
 "nbformat_minor": 1
}
