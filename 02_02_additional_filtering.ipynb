{
 "cells": [
  {
   "cell_type": "code",
   "execution_count": 1,
   "metadata": {
    "pycharm": {
     "name": "#%%\n"
    }
   },
   "outputs": [],
   "source": [
    "import sys\n",
    "from time import time\n",
    "import pandas as pd"
   ]
  },
  {
   "cell_type": "code",
   "execution_count": 12,
   "metadata": {
    "pycharm": {
     "is_executing": false,
     "name": "#%%\n"
    }
   },
   "outputs": [
    {
     "name": "stdout",
     "output_type": "stream",
     "text": [
      "93765Time to filter words categories: 11.95 mins\n"
     ]
    }
   ],
   "source": [
    "def hasNumbers(inputString):\n",
    "    return any(char.isdigit() for char in inputString)\n",
    "\n",
    "t = time()\n",
    "\n",
    "filtered = pd.DataFrame()\n",
    "    \n",
    "# Read labeled words\n",
    "df = pd.read_excel('data/labeled_words_single_v3.xlsx')\n",
    "\n",
    "counter = 0\n",
    "word_list = []\n",
    "# Read Excel file and fill the dictionary\n",
    "for row in df.index:\n",
    "    word = str(df['Word'][row])\n",
    "    label = df['Label'][row]\n",
    "    \n",
    "    # if first letter is not uppercase, it can not be Location or Person\n",
    "    if not word[0].isupper() and ( label == 'Location' or label == 'Person' ):\n",
    "        continue\n",
    "        \n",
    "    # if word contains number it cannot be location, person, person type or organization\n",
    "    if hasNumbers(word) and (  label == 'Location' or label == 'Person' or label == 'PersonType' or label == 'Organization' ):\n",
    "        continue\n",
    "    \n",
    "    try:\n",
    "        punc_index = word.index(\"'\")\n",
    "        word = word[0:punc_index]\n",
    "    except:\n",
    "        pass\n",
    "    \n",
    "    if word in word_list:\n",
    "        continue\n",
    "    \n",
    "    word_list.append(word)\n",
    "    filtered = filtered.append({\n",
    "        'Word': word,\n",
    "        'Label': label,\n",
    "    }, ignore_index=True)\n",
    "    \n",
    "    counter += 1\n",
    "    #if counter == 100:\n",
    "    #    break\n",
    "    sys.stdout.write('\\r'+str(counter))\n",
    "\n",
    "print('Time to filter words categories: {} mins'.format(round((time() - t) / 60, 2)))"
   ]
  },
  {
   "cell_type": "code",
   "execution_count": 13,
   "metadata": {
    "pycharm": {
     "name": "#%%\n"
    }
   },
   "outputs": [
    {
     "name": "stdout",
     "output_type": "stream",
     "text": [
      "Time to save: 0.1532 mins\n"
     ]
    }
   ],
   "source": [
    "t = time()\n",
    "\n",
    "writer = pd.ExcelWriter('data/labeled_words_single_v4.xlsx', engine='xlsxwriter')\n",
    "\n",
    "# Convert the dataframe to an XlsxWriter Excel object.\n",
    "filtered.to_excel(writer, sheet_name='Sheet1', index=False)\n",
    "\n",
    "# Close the Pandas Excel writer and output the Excel file.\n",
    "writer.save()\n",
    "print('Time to save: {} mins'.format(round((time() - t) / 60, 4)))\n"
   ]
  },
  {
   "cell_type": "code",
   "execution_count": null,
   "outputs": [],
   "source": [],
   "metadata": {
    "collapsed": false,
    "pycharm": {
     "name": "#%%\n"
    }
   }
  },
  {
   "cell_type": "code",
   "execution_count": null,
   "metadata": {},
   "outputs": [],
   "source": []
  }
 ],
 "metadata": {
  "kernelspec": {
   "display_name": "Python 3",
   "language": "python",
   "name": "python3"
  },
  "language_info": {
   "codemirror_mode": {
    "name": "ipython",
    "version": 3
   },
   "file_extension": ".py",
   "mimetype": "text/x-python",
   "name": "python",
   "nbconvert_exporter": "python",
   "pygments_lexer": "ipython3",
   "version": "3.7.7"
  },
  "pycharm": {
   "stem_cell": {
    "cell_type": "raw",
    "source": [],
    "metadata": {
     "collapsed": false
    }
   }
  }
 },
 "nbformat": 4,
 "nbformat_minor": 1
}