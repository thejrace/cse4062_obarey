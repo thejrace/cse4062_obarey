{
 "cells": [
  {
   "cell_type": "code",
   "execution_count": 24,
   "metadata": {
    "pycharm": {
     "is_executing": false,
     "name": "#%%\n"
    }
   },
   "outputs": [
    {
     "ename": "ModuleNotFoundError",
     "evalue": "No module named 'tabulate'",
     "output_type": "error",
     "traceback": [
      "\u001b[1;31m---------------------------------------------------------------------------\u001b[0m",
      "\u001b[1;31mModuleNotFoundError\u001b[0m                       Traceback (most recent call last)",
      "\u001b[1;32m<ipython-input-24-a33ac0283ba3>\u001b[0m in \u001b[0;36m<module>\u001b[1;34m\u001b[0m\n\u001b[0;32m      2\u001b[0m \u001b[1;32mimport\u001b[0m \u001b[0mnltk\u001b[0m\u001b[1;33m\u001b[0m\u001b[1;33m\u001b[0m\u001b[0m\n\u001b[0;32m      3\u001b[0m \u001b[1;32mfrom\u001b[0m \u001b[0mtime\u001b[0m \u001b[1;32mimport\u001b[0m \u001b[0mtime\u001b[0m\u001b[1;33m\u001b[0m\u001b[1;33m\u001b[0m\u001b[0m\n\u001b[1;32m----> 4\u001b[1;33m \u001b[1;32mfrom\u001b[0m \u001b[0mtabulate\u001b[0m \u001b[1;32mimport\u001b[0m \u001b[0mtabulate\u001b[0m\u001b[1;33m\u001b[0m\u001b[1;33m\u001b[0m\u001b[0m\n\u001b[0m\u001b[0;32m      5\u001b[0m \u001b[1;33m\u001b[0m\u001b[0m\n\u001b[0;32m      6\u001b[0m \"\"\"\n",
      "\u001b[1;31mModuleNotFoundError\u001b[0m: No module named 'tabulate'"
     ]
    }
   ],
   "source": [
    "import csv\n",
    "import nltk\n",
    "from time import time\n",
    "from tabulate import tabulate\n",
    "\n",
    "\"\"\"\n",
    "Part 1: \n",
    "    Objective: Read dataset and create a dictionary for all entity categories with their frequency.\n",
    "\n",
    "    Output:\n",
    "        sorted_categories = {\n",
    "            'person_name'   : 1000,\n",
    "            'location_name' : 1234\n",
    "        }\n",
    "\"\"\"\n",
    "import pandas as pd\n",
    "\n",
    "df = pd.DataFrame({'Category': [], 'Sentence': [], 'Tokens': []})\n",
    "t = time()\n",
    "counter = 0\n",
    "with open(\"data/data_origin.DUMP\", encoding=\"utf8\") as tsv:\n",
    "    raw_categories = {}\n",
    "    raw_category_examples = {}\n",
    "    for line in csv.reader(tsv, dialect=\"excel-tab\"):\n",
    "        tokenized = line[1]\n",
    "        sentence = line[2]\n",
    "        \n",
    "        df = df.append({'Category':line[0], 'Sentence':sentence[0:30], 'Tokens':line[1][0:30]}, ignore_index = True)\n",
    "        \n",
    "        counter += 1\n",
    "        if counter == 10:\n",
    "            break\n",
    "        \n",
    "    \n",
    "              \n",
    "\n",
    "print(df.head(5))\n",
    "print(df.to_markdown()) \n",
    "print('Time to create dictionary: {} mins'.format(round((time() - t) / 60, 4)))"
   ]
  },
  {
   "cell_type": "code",
   "execution_count": 13,
   "metadata": {
    "pycharm": {
     "is_executing": false,
     "name": "#%%\n"
    }
   },
   "outputs": [
    {
     "data": {
      "text/html": [
       "<div>\n",
       "<style scoped>\n",
       "    .dataframe tbody tr th:only-of-type {\n",
       "        vertical-align: middle;\n",
       "    }\n",
       "\n",
       "    .dataframe tbody tr th {\n",
       "        vertical-align: top;\n",
       "    }\n",
       "\n",
       "    .dataframe thead th {\n",
       "        text-align: right;\n",
       "    }\n",
       "</style>\n",
       "<table border=\"1\" class=\"dataframe\">\n",
       "  <thead>\n",
       "    <tr style=\"text-align: right;\">\n",
       "      <th></th>\n",
       "      <th>Count</th>\n",
       "      <th>Examples</th>\n",
       "      <th>Token</th>\n",
       "    </tr>\n",
       "  </thead>\n",
       "  <tbody>\n",
       "    <tr>\n",
       "      <th>0</th>\n",
       "      <td>141205.0</td>\n",
       "      <td>X'in, Hill, Ralf, Rudolf, Möller, Moeller, Moe...</td>\n",
       "      <td>person_name</td>\n",
       "    </tr>\n",
       "    <tr>\n",
       "      <th>1</th>\n",
       "      <td>89304.0</td>\n",
       "      <td>Fransızca, Pakistan, Pakistan, Pakistan'ın, Te...</td>\n",
       "      <td>location_containedby</td>\n",
       "    </tr>\n",
       "    <tr>\n",
       "      <th>2</th>\n",
       "      <td>59708.0</td>\n",
       "      <td>Casanova, İsviçre'nin, Amerika, Birleşik, Devl...</td>\n",
       "      <td>person_nationality</td>\n",
       "    </tr>\n",
       "    <tr>\n",
       "      <th>3</th>\n",
       "      <td>58080.0</td>\n",
       "      <td>Mahkemesi, sunucu, oyunun, oyuncu, fizikçi, ki...</td>\n",
       "      <td>person_profession</td>\n",
       "    </tr>\n",
       "    <tr>\n",
       "      <th>4</th>\n",
       "      <td>43630.0</td>\n",
       "      <td>Peştuca, Denton, Cisco, Cisco'da, Sucre, Sucre...</td>\n",
       "      <td>citytown_name</td>\n",
       "    </tr>\n",
       "  </tbody>\n",
       "</table>\n",
       "</div>"
      ],
      "text/plain": [
       "      Count                                           Examples  \\\n",
       "0  141205.0  X'in, Hill, Ralf, Rudolf, Möller, Moeller, Moe...   \n",
       "1   89304.0  Fransızca, Pakistan, Pakistan, Pakistan'ın, Te...   \n",
       "2   59708.0  Casanova, İsviçre'nin, Amerika, Birleşik, Devl...   \n",
       "3   58080.0  Mahkemesi, sunucu, oyunun, oyuncu, fizikçi, ki...   \n",
       "4   43630.0  Peştuca, Denton, Cisco, Cisco'da, Sucre, Sucre...   \n",
       "\n",
       "                  Token  \n",
       "0           person_name  \n",
       "1  location_containedby  \n",
       "2    person_nationality  \n",
       "3     person_profession  \n",
       "4         citytown_name  "
      ]
     },
     "execution_count": 13,
     "metadata": {},
     "output_type": "execute_result"
    }
   ],
   "source": [
    "import pandas as pd\n",
    "df = pd.DataFrame()\n",
    "\n",
    "sorted_categories = {k: v for k, v in sorted(raw_categories.items(), reverse=True, key=lambda item: item[1])}\n",
    "\n",
    "for token in sorted_categories:\n",
    "    df = df.append({\n",
    "            'Token': token,\n",
    "            'Count': raw_categories[token],\n",
    "            'Examples': \", \".join(raw_category_examples[token])\n",
    "        }, ignore_index=True)\n",
    "                \n",
    "    \n",
    "df.head(5)"
   ]
  },
  {
   "cell_type": "code",
   "execution_count": 15,
   "metadata": {
    "pycharm": {
     "is_executing": false,
     "name": "#%%\n"
    }
   },
   "outputs": [],
   "source": [
    "writer = pd.ExcelWriter('data/labeled_categories_with_examples.xlsx', engine='xlsxwriter')\n",
    "\n",
    "# Convert the dataframe to an XlsxWriter Excel object.\n",
    "df.to_excel(writer, sheet_name='Sheet1', index=False)\n",
    "\n",
    "# Close the Pandas Excel writer and output the Excel file.\n",
    "writer.save()\n"
   ]
  }
 ],
 "metadata": {
  "kernelspec": {
   "display_name": "Python 3",
   "language": "python",
   "name": "python3"
  },
  "language_info": {
   "codemirror_mode": {
    "name": "ipython",
    "version": 3
   },
   "file_extension": ".py",
   "mimetype": "text/x-python",
   "name": "python",
   "nbconvert_exporter": "python",
   "pygments_lexer": "ipython3",
   "version": "3.7.6"
  },
  "pycharm": {
   "stem_cell": {
    "cell_type": "raw",
    "metadata": {
     "collapsed": false
    },
    "source": []
   }
  }
 },
 "nbformat": 4,
 "nbformat_minor": 1
}
