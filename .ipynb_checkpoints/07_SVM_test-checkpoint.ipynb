{
 "cells": [
  {
   "cell_type": "code",
   "execution_count": 7,
   "metadata": {
    "pycharm": {
     "is_executing": false,
     "name": "#%%\n"
    }
   },
   "outputs": [],
   "source": [
    "from time import time\n",
    "\n",
    "import pandas as pd\n",
    "\n",
    "t = time()\n",
    "\n",
    "data = pd.read_excel('data/all_features_v1_dataset_no_header.xlsx')\n",
    "\n",
    "X = data.iloc[:,0:13]  # features\n",
    "Y = data.iloc[:,-1]    # label column"
   ]
  },
  {
   "cell_type": "code",
   "execution_count": 9,
   "metadata": {
    "pycharm": {
     "name": "#%%\n"
    }
   },
   "outputs": [
    {
     "name": "stdout",
     "output_type": "stream",
     "text": [
      "[[ 0.1868709   0.17476806  0.29129097 ...  0.          8.\n",
      "   1.        ]\n",
      " [ 0.20308319  0.05074187  0.17708334 ...  0.          7.\n",
      "   1.        ]\n",
      " [ 0.22078927  0.27216914  0.32218093 ...  0.         13.\n",
      "   1.        ]\n",
      " ...\n",
      " [ 0.21261135  0.09714766  0.20350175 ...  0.          6.\n",
      "   1.        ]\n",
      " [ 0.2345527   0.20858897  0.36704594 ...  0.          6.\n",
      "   1.        ]\n",
      " [ 0.24321702  0.07700704  0.30716458 ...  0.         10.\n",
      "   1.        ]]\n",
      "['Person' 'Location' 'PersonType' ... 'Person' 'Person' 'Person']\n"
     ]
    }
   ],
   "source": [
    "print(X.to_numpy())\n",
    "print(Y.to_numpy())"
   ]
  },
  {
   "cell_type": "code",
   "execution_count": 10,
   "metadata": {},
   "outputs": [],
   "source": [
    "from sklearn.model_selection import train_test_split\n",
    "\n",
    "X_train, X_test, y_train, y_test = train_test_split(X.to_numpy(), Y.to_numpy(), test_size=0.3,random_state=109) # 70% training and 30% test"
   ]
  },
  {
   "cell_type": "code",
   "execution_count": 13,
   "metadata": {},
   "outputs": [
    {
     "name": "stdout",
     "output_type": "stream",
     "text": [
      "[[ 2.44905531e-01  1.21810660e-01  2.87485629e-01 ...  0.00000000e+00\n",
      "   1.00000000e+01  0.00000000e+00]\n",
      " [ 1.78199708e-01  2.12204799e-01  2.78672010e-01 ...  0.00000000e+00\n",
      "   1.20000000e+01  0.00000000e+00]\n",
      " [ 2.87103206e-01  2.80413687e-01  3.66866291e-01 ...  0.00000000e+00\n",
      "   8.00000000e+00  1.00000000e+00]\n",
      " ...\n",
      " [ 1.41162768e-01  1.31995752e-01  2.43208408e-01 ...  0.00000000e+00\n",
      "   5.00000000e+00  1.00000000e+00]\n",
      " [ 2.02321857e-01  1.20841332e-01  2.67483979e-01 ...  0.00000000e+00\n",
      "   8.00000000e+00  1.00000000e+00]\n",
      " [ 1.48343176e-01 -4.84273012e-04  1.24067485e-01 ...  0.00000000e+00\n",
      "   5.00000000e+00  1.00000000e+00]]\n",
      "['Location' 'Person' 'Organization' ... 'Thing' 'Location' 'Person']\n"
     ]
    }
   ],
   "source": [
    "from sklearn import svm\n",
    "\n",
    "#Create a svm Classifier\n",
    "clf = svm.SVC(kernel='linear') # Linear Kernel\n",
    "\n",
    "#Train the model using the training sets\n",
    "clf.fit(X_train, y_train)\n",
    "\n",
    "#Predict the response for test dataset\n",
    "y_pred = clf.predict(X_test)"
   ]
  }
 ],
 "metadata": {
  "kernelspec": {
   "display_name": "Python 3",
   "language": "python",
   "name": "python3"
  },
  "language_info": {
   "codemirror_mode": {
    "name": "ipython",
    "version": 3
   },
   "file_extension": ".py",
   "mimetype": "text/x-python",
   "name": "python",
   "nbconvert_exporter": "python",
   "pygments_lexer": "ipython3",
   "version": "3.7.7"
  },
  "pycharm": {
   "stem_cell": {
    "cell_type": "raw",
    "metadata": {
     "collapsed": false
    },
    "source": []
   }
  }
 },
 "nbformat": 4,
 "nbformat_minor": 1
}
