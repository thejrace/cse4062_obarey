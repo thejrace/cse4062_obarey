{
 "cells": [
  {
   "cell_type": "code",
   "execution_count": 1,
   "metadata": {
    "pycharm": {
     "is_executing": false,
     "name": "#%%\n"
    }
   },
   "outputs": [
    {
     "name": "stderr",
     "output_type": "stream",
     "text": [
      "[nltk_data] Downloading package punkt to\n",
      "[nltk_data]     C:\\Users\\JesterPC\\AppData\\Roaming\\nltk_data...\n",
      "[nltk_data]   Package punkt is already up-to-date!\n",
      "[nltk_data] Downloading package stopwords to\n",
      "[nltk_data]     C:\\Users\\JesterPC\\AppData\\Roaming\\nltk_data...\n",
      "[nltk_data]   Package stopwords is already up-to-date!\n"
     ]
    },
    {
     "data": {
      "text/plain": [
       "True"
      ]
     },
     "execution_count": 1,
     "metadata": {},
     "output_type": "execute_result"
    }
   ],
   "source": [
    "import csv\n",
    "import nltk\n",
    "import sys\n",
    "from time import time\n",
    "from nltk.corpus import stopwords\n",
    "\n",
    "from gensim.models.wrappers import FastText\n",
    "\n",
    "nltk.download('punkt')\n",
    "nltk.download('stopwords')"
   ]
  },
  {
   "cell_type": "code",
   "execution_count": 2,
   "metadata": {
    "pycharm": {
     "is_executing": false,
     "name": "#%%\n"
    }
   },
   "outputs": [],
   "source": [
    "category_list = [\n",
    "    'Person', 'Location', 'Event', 'Organization', 'DateTime', 'PersonType', 'Currency', 'Nationality', 'Ethnicity', 'Thing'\n",
    "]"
   ]
  },
  {
   "cell_type": "code",
   "execution_count": 3,
   "metadata": {
    "pycharm": {
     "is_executing": true,
     "name": "#%%\n"
    }
   },
   "outputs": [
    {
     "name": "stdout",
     "output_type": "stream",
     "text": [
      "Time to load the model: 4.29 mins\n"
     ]
    }
   ],
   "source": [
    "t = time()\n",
    "# Load pre trained model\n",
    "w2v_model = FastText.load_fasttext_format(model_file='models/fasttext/cc.tr.300.bin')\n",
    "\n",
    "print('Time to load the model: {} mins'.format(round((time() - t) / 60, 2)))"
   ]
  },
  {
   "cell_type": "code",
   "execution_count": 35,
   "metadata": {},
   "outputs": [
    {
     "name": "stdout",
     "output_type": "stream",
     "text": [
      "151983Time to vectorize categories: 0.62 mins\n"
     ]
    }
   ],
   "source": [
    "import pandas as pd\n",
    "\n",
    "t = time()\n",
    "\n",
    "category_vectors = {}\n",
    "for category in category_list:\n",
    "    category_vectors[category] = []\n",
    "    \n",
    "# Read labeled words\n",
    "df = pd.read_excel('data/labeled_words_single.xlsx')\n",
    "\n",
    "counter = 0\n",
    "hit_word_count = 0\n",
    "# Read Excel file and fill the dictionary\n",
    "for row in df.index:\n",
    "    word = str(df['Word'][row])\n",
    "    label = df['Label'][row]\n",
    "    \n",
    "    if word in w2v_model.wv:\n",
    "        hit_word_count += 1\n",
    "        category_vectors[label].append(w2v_model.wv[word])\n",
    "    \n",
    "    counter += 1\n",
    "    sys.stdout.write('\\r'+str(counter))\n",
    "\n",
    "print('Time to vectorize categories: {} mins'.format(round((time() - t) / 60, 2)))"
   ]
  },
  {
   "cell_type": "code",
   "execution_count": 36,
   "metadata": {
    "pycharm": {
     "name": "#%%\n"
    }
   },
   "outputs": [
    {
     "name": "stdout",
     "output_type": "stream",
     "text": [
      "Missed 1581 from 151983\n"
     ]
    }
   ],
   "source": [
    "print('Missed ' + str(counter - hit_word_count) + ' from ' + str(counter))"
   ]
  },
  {
   "cell_type": "code",
   "execution_count": 50,
   "metadata": {},
   "outputs": [
    {
     "name": "stdout",
     "output_type": "stream",
     "text": [
      "Time to calculate centroids: 0.01 mins\n"
     ]
    }
   ],
   "source": [
    "import numpy as np\n",
    "\n",
    "t = time()\n",
    "\n",
    "centroids = {}\n",
    "#for category in category_list:\n",
    "#    centroids[category] = [] \n",
    "\n",
    "for category in category_list:\n",
    "    centroids[category] = np.sum(category_vectors[category], axis=0) / len(category_vectors[category])\n",
    "    \n",
    "print('Time to calculate centroids: {} mins'.format(round((time() - t) / 60, 2)))"
   ]
  },
  {
   "cell_type": "code",
   "execution_count": 53,
   "metadata": {
    "collapsed": true
   },
   "outputs": [
    {
     "name": "stdout",
     "output_type": "stream",
     "text": [
      "[-9.28570423e-03  1.27369841e-03  2.29244530e-02  5.92004322e-03\n",
      " -1.77242793e-02 -7.45854853e-03  3.12733138e-03 -8.66176374e-03\n",
      "  8.10330530e-05 -9.62459110e-03  1.16575393e-04 -1.41606936e-02\n",
      " -1.89569197e-03  6.10288233e-03  1.74561236e-02 -1.75259693e-03\n",
      " -3.47139384e-03  6.00584550e-03 -5.60209993e-03  5.35286814e-02\n",
      " -1.20721953e-02  5.29469922e-04 -4.82334383e-03 -2.69055367e-03\n",
      " -2.04236177e-03 -1.47714233e-02 -1.63936000e-02  1.12570366e-02\n",
      " -3.09584965e-03 -5.02523407e-03  4.96087549e-03  5.60857821e-03\n",
      "  3.68642574e-03  4.19786759e-03  5.02270740e-03  4.48399270e-03\n",
      " -3.65086808e-03  1.56527050e-02  2.54275501e-02  1.06655322e-02\n",
      " -1.70757051e-03 -1.07228821e-02 -2.06966531e-02 -2.55635660e-03\n",
      " -1.31531311e-02 -4.54891985e-03 -6.53178710e-03  1.64428893e-02\n",
      "  5.80153009e-03  1.89049356e-02  3.69141586e-02  3.42046446e-03\n",
      "  6.40169438e-03  1.17768645e-02 -4.89268824e-03  1.42832473e-03\n",
      "  1.36266230e-02 -1.16590271e-02 -2.09931787e-02  8.69897474e-03\n",
      " -3.92632559e-03 -4.29756045e-02 -5.79996454e-03  4.68688644e-03\n",
      " -9.07410635e-04  2.26120302e-03  4.60130535e-03  3.06502660e-03\n",
      "  2.16062088e-02 -5.56597079e-04  5.91635844e-03  8.64832848e-03\n",
      " -1.91605417e-03 -7.10236141e-03  5.64778282e-04 -4.23775404e-04\n",
      " -7.25892326e-03 -9.26385541e-03  5.32424403e-03 -2.08638236e-02\n",
      "  1.23644406e-02 -3.48392315e-02 -9.67502408e-03  1.99866109e-02\n",
      " -1.91514322e-04  1.54527323e-02  4.58189659e-03  1.76474883e-03\n",
      "  8.91299173e-03  1.75009035e-02  5.29777026e-03  4.80025262e-03\n",
      "  3.81141622e-03  6.78239716e-03  3.03387139e-02  1.29507026e-02\n",
      " -6.17407169e-03 -1.32643217e-02  6.67687692e-03  1.18595492e-02\n",
      "  2.08695810e-02 -1.22674275e-03  1.44498348e-02 -1.29509056e-02\n",
      " -7.85161834e-03 -9.16561950e-03  5.74398134e-03 -3.82172992e-04\n",
      "  1.90153047e-02  6.02564309e-03 -1.31947109e-02  7.95880798e-03\n",
      "  3.14063695e-03  1.14361697e-03 -1.00642024e-02 -1.10608144e-02\n",
      " -1.70167834e-02 -8.84822942e-03  2.48803776e-02  4.56070015e-03\n",
      "  9.96841118e-04  1.80208255e-04 -5.58814267e-03 -2.85133552e-02\n",
      " -8.18722788e-03  3.28784212e-02 -1.24500394e-02 -1.30488165e-02\n",
      " -2.09471374e-03  2.35938770e-03 -3.43463238e-04  4.78391163e-03\n",
      "  6.44192705e-03  1.09150428e-02  1.50364358e-02  6.38265070e-03\n",
      "  5.92052983e-03 -9.35606007e-03 -1.71616338e-02  2.69319210e-03\n",
      "  7.68183172e-03 -5.03570512e-02 -8.30649491e-03 -1.03187431e-02\n",
      "  2.45004892e-02 -2.54022563e-03 -2.03648843e-02  2.74327607e-03\n",
      " -1.41668469e-02  9.24434420e-03  4.23282292e-03  3.65421139e-02\n",
      " -2.09740014e-03 -9.85848252e-03  3.36351222e-03 -1.52783664e-02\n",
      "  1.26132465e-04 -8.88522528e-03 -2.36594677e-03 -1.95233170e-02\n",
      "  3.92161449e-03 -8.96416698e-03  2.93871308e-05 -9.79900640e-03\n",
      " -1.10406335e-02 -8.06755852e-03 -4.27091756e-04  1.68596841e-02\n",
      " -2.16760352e-04  1.41459762e-03  7.03633856e-03 -1.41064702e-02\n",
      " -2.59701116e-03  2.94994051e-03 -8.14558007e-03  3.94797586e-02\n",
      "  1.18600549e-02  5.21423295e-04 -7.48904655e-04  3.69325600e-04\n",
      "  1.23178065e-02 -1.84270635e-03 -3.55408690e-03  4.15733829e-03\n",
      " -1.52663309e-02 -5.94251323e-03  1.02852657e-02  4.51350883e-02\n",
      "  5.45031449e-04  4.47962573e-03 -1.23109147e-02  2.13520834e-03\n",
      " -5.55756539e-02 -7.06953171e-04 -9.49723367e-03  1.39921922e-02\n",
      "  1.03980247e-02 -9.70099941e-02  3.94168589e-03  1.69880502e-02\n",
      " -7.09986389e-02  1.37158167e-02 -1.54855556e-03 -6.95539813e-04\n",
      " -5.19155711e-03  6.12825761e-03  5.88591350e-03  6.83439663e-03\n",
      " -7.91843887e-03  8.64927378e-03  3.47899050e-02 -4.36920822e-02\n",
      " -3.90621787e-03  6.82130107e-04  1.57298855e-02 -3.29221180e-03\n",
      "  9.61307902e-03  6.35454338e-03 -3.77800614e-02  1.81266363e-03\n",
      " -2.75253505e-03 -1.52567495e-02  7.20916828e-03  1.72671652e-03\n",
      " -6.59879716e-03 -1.73590109e-02 -1.44329071e-02  1.47854886e-03\n",
      "  5.76541061e-03 -1.01843206e-02  1.17541365e-02 -3.54039893e-02\n",
      "  5.11865504e-03 -1.86318881e-03  4.42617200e-03 -4.99845250e-03\n",
      "  6.33080723e-03 -3.45607176e-02  2.24536052e-03  3.93601973e-03\n",
      "  1.03199680e-03 -5.93020301e-03 -4.34407452e-03 -2.80778408e-02\n",
      " -2.93989875e-03  1.00641176e-02 -4.25193831e-02 -7.96247646e-03\n",
      " -7.39842188e-04 -7.92918168e-03  7.10306922e-03 -1.31742947e-03\n",
      "  4.47238935e-03  3.21262167e-03 -3.47656943e-03 -7.97425676e-03\n",
      " -2.85508111e-02  9.79969930e-03  3.70986462e-02 -5.04649524e-03\n",
      " -1.62622686e-02 -2.38365997e-02 -4.80752019e-03 -3.43041383e-02\n",
      " -5.50642330e-03  2.16400390e-03  1.75742654e-03 -2.71991966e-03\n",
      "  1.01349258e-04  6.71420712e-03 -4.98579331e-02  2.70654098e-04\n",
      " -4.42309305e-02  8.08899943e-03  1.13311615e-02  1.11350315e-02\n",
      " -1.34190563e-02  8.71543889e-05 -9.18326026e-04  1.04598068e-02\n",
      " -2.33332440e-02 -9.09832213e-03 -7.18701456e-04 -7.36775622e-03\n",
      " -9.64806415e-03  2.00645458e-02  8.50391388e-03  8.86212569e-03\n",
      "  2.72223703e-03  4.25228663e-03 -6.05056528e-03 -1.69871491e-03\n",
      " -4.49176459e-03  9.12595913e-03 -1.01902476e-03  1.30124781e-02\n",
      "  1.43598281e-02 -5.13422652e-04 -7.03962659e-03  3.65815969e-04]\n"
     ]
    }
   ],
   "source": [
    "#print(category_vectors['Person'][0])  # -5.33770142e+02  --- -9.28570423e-03\n",
    "#print(len(category_vectors['Person']))\n",
    "#print(centroids['Person'])"
   ]
  },
  {
   "cell_type": "code",
   "execution_count": null,
   "metadata": {},
   "outputs": [
    {
     "name": "stdout",
     "output_type": "stream",
     "text": [
      "['Person', 'Location', 'Event', 'Organization', 'DateTime', 'PersonType', 'Currency', 'Nationality', 'Ethnicity', 'Thing']\n",
      "116423"
     ]
    }
   ],
   "source": [
    "import pandas as pd\n",
    "from scipy import spatial\n",
    "\n",
    "t = time()\n",
    "\n",
    "# features will be stored in this dataframe\n",
    "output_df = pd.DataFrame()\n",
    "\n",
    "# Read labeled words\n",
    "df = pd.read_excel('data/labeled_words_single.xlsx')\n",
    "\n",
    "counter = 0\n",
    "\n",
    "\n",
    "# Read Excel file and fill the dictionary\n",
    "for row in df.index:\n",
    "    word = str(df['Word'][row])\n",
    "    label = str(df['Label'][row])\n",
    "\n",
    "    if word in w2v_model.wv:\n",
    "        \n",
    "        output = { 'Word': word, 'Label': label  }\n",
    "        \n",
    "        # calculate distance to each centroid\n",
    "        for category in category_list:\n",
    "            output[category] = 1 - spatial.distance.cosine(w2v_model.wv[word],centroids[category])\n",
    "            \n",
    "        \n",
    "        output_df = output_df.append(output, ignore_index=True)\n",
    "        \n",
    "    counter += 1\n",
    "    #if counter == 1:\n",
    "    #    break\n",
    "    sys.stdout.write('\\r'+str(counter))\n",
    "\n",
    "# df[\"Person\"] = pd.to_numeric(df[\"Person\"])\n",
    "print('Time to calculate features categories: {} mins'.format(round((time() - t) / 60, 2)))\n",
    "output_df.head(1)\n",
    "# print('Missed ' + str(counter - hit_word_count) + ' from ' + str(counter))"
   ]
  }
 ],
 "metadata": {
  "kernelspec": {
   "display_name": "Python 3",
   "language": "python",
   "name": "python3"
  },
  "language_info": {
   "codemirror_mode": {
    "name": "ipython",
    "version": 3
   },
   "file_extension": ".py",
   "mimetype": "text/x-python",
   "name": "python",
   "nbconvert_exporter": "python",
   "pygments_lexer": "ipython3",
   "version": "3.7.7"
  },
  "pycharm": {
   "stem_cell": {
    "cell_type": "raw",
    "metadata": {
     "collapsed": false
    },
    "source": []
   }
  }
 },
 "nbformat": 4,
 "nbformat_minor": 1
}
