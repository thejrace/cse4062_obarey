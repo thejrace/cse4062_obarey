{
 "cells": [
  {
   "cell_type": "code",
   "execution_count": 1,
   "metadata": {
    "pycharm": {
     "is_executing": false,
     "name": "#%%\n"
    }
   },
   "outputs": [],
   "source": [
    "import sys\n",
    "from time import time\n",
    "import pandas as pd"
   ]
  },
  {
   "cell_type": "code",
   "execution_count": 2,
   "metadata": {
    "pycharm": {
     "is_executing": false,
     "name": "#%%\n"
    }
   },
   "outputs": [],
   "source": [
    "def contains_number(inputString):\n",
    "    return int(any(char.isdigit() for char in inputString))\n",
    "\n",
    "def all_capital(inputString):\n",
    "    flag = True\n",
    "    for char in inputString:\n",
    "        flag = flag and char.isupper()\n",
    "    return int(flag)\n",
    "\n",
    "def start_capital(inputString):\n",
    "    return int(inputString[0].isupper())\n"
   ]
  },
  {
   "cell_type": "code",
   "execution_count": 3,
   "metadata": {
    "pycharm": {
     "name": "#%%\n"
    }
   },
   "outputs": [
    {
     "name": "stdout",
     "output_type": "stream",
     "text": [
      "93765Time to generate string features: 28.09 mins\n"
     ]
    }
   ],
   "source": [
    "t = time()\n",
    "\n",
    "# Read labeled words\n",
    "df = pd.read_excel('data/labeled_words_single_v4.xlsx')\n",
    "\n",
    "output_df = pd.DataFrame()\n",
    "\n",
    "counter = 0\n",
    "# Read Excel file and fill the dictionary\n",
    "for row in df.index:\n",
    "    word = str(df['Word'][row])\n",
    "    label = df['Label'][row]\n",
    "    \n",
    "    output_df = output_df.append({\n",
    "        'Word': word,\n",
    "        'Label': label,\n",
    "        'All Capital': all_capital(word),\n",
    "        'Length': len(word),\n",
    "        'Contains Number': contains_number(word),\n",
    "        'Start Capital': start_capital(word),    \n",
    "    }, ignore_index=True)\n",
    "                \n",
    "    counter += 1\n",
    "    sys.stdout.write('\\r'+str(counter))\n",
    "\n",
    "print('Time to generate string features: {} mins'.format(round((time() - t) / 60, 2)))"
   ]
  }
 ],
 "metadata": {
  "kernelspec": {
   "display_name": "Python 3",
   "language": "python",
   "name": "python3"
  },
  "language_info": {
   "codemirror_mode": {
    "name": "ipython",
    "version": 3
   },
   "file_extension": ".py",
   "mimetype": "text/x-python",
   "name": "python",
   "nbconvert_exporter": "python",
   "pygments_lexer": "ipython3",
   "version": "3.7.7"
  },
  "pycharm": {
   "stem_cell": {
    "cell_type": "raw",
    "metadata": {
     "collapsed": false
    },
    "source": []
   }
  }
 },
 "nbformat": 4,
 "nbformat_minor": 4
}
