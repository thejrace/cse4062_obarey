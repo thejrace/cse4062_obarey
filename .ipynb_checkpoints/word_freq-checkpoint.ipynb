{
 "cells": [
  {
   "cell_type": "code",
   "execution_count": 16,
   "metadata": {
    "pycharm": {
     "is_executing": true
    }
   },
   "outputs": [],
   "source": [
    "import csv\n",
    "import string\n",
    "from time import time  # To time our operations\n",
    "import multiprocessing\n",
    "import gensim\n",
    "from gensim.models import Word2Vec, KeyedVectors\n",
    "import nltk\n",
    "from nltk.corpus import stopwords\n",
    "import pandas as pd\n",
    "from sklearn.manifold import TSNE\n",
    "import seaborn as sns\n",
    "import matplotlib.pyplot as plt\n",
    "import numpy as np\n",
    "from adjustText import adjust_text\n",
    "\n",
    "import logging  # Setting up the loggings to monitor gensim\n",
    "logging.basicConfig(format=\"%(levelname)s - %(asctime)s: %(message)s\", datefmt= '%H:%M:%S', level=logging.INFO)"
   ]
  },
  {
   "cell_type": "code",
   "execution_count": 2,
   "metadata": {
    "pycharm": {
     "is_executing": true,
     "name": "#%%\n"
    }
   },
   "outputs": [
    {
     "name": "stderr",
     "output_type": "stream",
     "text": [
      "[nltk_data] Downloading package punkt to\n",
      "[nltk_data]     C:\\Users\\JesterPC\\AppData\\Roaming\\nltk_data...\n",
      "[nltk_data]   Package punkt is already up-to-date!\n",
      "[nltk_data] Downloading package stopwords to\n",
      "[nltk_data]     C:\\Users\\JesterPC\\AppData\\Roaming\\nltk_data...\n",
      "[nltk_data]   Package stopwords is already up-to-date!\n"
     ]
    },
    {
     "data": {
      "text/plain": [
       "True"
      ]
     },
     "execution_count": 2,
     "metadata": {},
     "output_type": "execute_result"
    }
   ],
   "source": [
    "nltk.download('punkt')\n",
    "nltk.download('stopwords')"
   ]
  },
  {
   "cell_type": "code",
   "execution_count": 3,
   "metadata": {
    "pycharm": {
     "is_executing": true,
     "name": "#%%\n"
    }
   },
   "outputs": [
    {
     "name": "stdout",
     "output_type": "stream",
     "text": [
      "Time to tokenize: 44.18 mins\n"
     ]
    }
   ],
   "source": [
    "# Count the number of cores in a computer\n",
    "cores = multiprocessing.cpu_count()\n",
    "t = time()\n",
    "\n",
    "words = []\n",
    "sentences = []\n",
    "\n",
    "with open(\"data/data_origin.DUMP\", encoding=\"utf8\") as tsv:\n",
    "\n",
    "    for line in csv.reader(tsv, dialect=\"excel-tab\"):\n",
    "        sentence = line[2]\n",
    "\n",
    "        # trim punctuation, make it lowercase\n",
    "        sentence = sentence.translate(str.maketrans('', '', string.punctuation)).lower()\n",
    "\n",
    "        cleared_words = []\n",
    "        # print(sentence)\n",
    "\n",
    "        all_words = nltk.word_tokenize(sentence)\n",
    "        # print(all_words)\n",
    "\n",
    "        for word in all_words:\n",
    "            if word not in stopwords.words('turkish'):\n",
    "                cleared_words.append(word)\n",
    "                words.append(word)\n",
    "\n",
    "        sentences.append(cleared_words)\n",
    "        \n",
    "print('Time to tokenize: {} mins'.format(round((time() - t) / 60, 2)))"
   ]
  },
  {
   "cell_type": "code",
   "execution_count": null,
   "metadata": {
    "pycharm": {
     "is_executing": true,
     "name": "#%%\n"
    }
   },
   "outputs": [],
   "source": [
    "# print(cleared_words)\n",
    "w2v_model = Word2Vec(min_count=2,\n",
    "                     window=2,\n",
    "                     size=300,\n",
    "                     sample=6e-5,\n",
    "                     alpha=0.03,\n",
    "                     min_alpha=0.0007,\n",
    "                     negative=20,\n",
    "                     workers=cores - 1)\n",
    "t = time()\n",
    "\n",
    "w2v_model.build_vocab(sentences, progress_per=100)\n",
    "\n",
    "print('Time to build vocab: {} mins'.format(round((time() - t) / 60, 2)))"
   ]
  },
  {
   "cell_type": "code",
   "execution_count": null,
   "metadata": {
    "pycharm": {
     "is_executing": true,
     "name": "#%%\n"
    }
   },
   "outputs": [],
   "source": [
    "t = time()\n",
    "\n",
    "w2v_model.train(sentences, total_examples=w2v_model.corpus_count, epochs=30, report_delay=1)\n",
    "\n",
    "print('Time to train the model: {} mins'.format(round((time() - t) / 60, 2)))\n",
    "\n",
    "w2v_model.init_sims(replace=True)\n",
    "\n",
    "w2v_model.wv.save_word2vec_format('models/model_ep30.bin', binary=True)"
   ]
  },
  {
   "cell_type": "code",
   "execution_count": null,
   "metadata": {
    "pycharm": {
     "is_executing": true,
     "name": "#%%\n"
    }
   },
   "outputs": [],
   "source": [
    "model = gensim.models.KeyedVectors.load_word2vec_format('models/model_ep30.bin', binary=True)"
   ]
  },
  {
   "cell_type": "code",
   "execution_count": 15,
   "metadata": {},
   "outputs": [
    {
     "data": {
      "text/html": [
       "<div>\n",
       "<style scoped>\n",
       "    .dataframe tbody tr th:only-of-type {\n",
       "        vertical-align: middle;\n",
       "    }\n",
       "\n",
       "    .dataframe tbody tr th {\n",
       "        vertical-align: top;\n",
       "    }\n",
       "\n",
       "    .dataframe thead th {\n",
       "        text-align: right;\n",
       "    }\n",
       "</style>\n",
       "<table border=\"1\" class=\"dataframe\">\n",
       "  <thead>\n",
       "    <tr style=\"text-align: right;\">\n",
       "      <th></th>\n",
       "      <th>0</th>\n",
       "      <th>1</th>\n",
       "      <th>2</th>\n",
       "      <th>3</th>\n",
       "      <th>4</th>\n",
       "      <th>5</th>\n",
       "      <th>6</th>\n",
       "      <th>7</th>\n",
       "      <th>8</th>\n",
       "      <th>9</th>\n",
       "      <th>...</th>\n",
       "      <th>290</th>\n",
       "      <th>291</th>\n",
       "      <th>292</th>\n",
       "      <th>293</th>\n",
       "      <th>294</th>\n",
       "      <th>295</th>\n",
       "      <th>296</th>\n",
       "      <th>297</th>\n",
       "      <th>298</th>\n",
       "      <th>299</th>\n",
       "    </tr>\n",
       "  </thead>\n",
       "  <tbody>\n",
       "    <tr>\n",
       "      <th>ip2location</th>\n",
       "      <td>-0.101466</td>\n",
       "      <td>0.037244</td>\n",
       "      <td>-0.020054</td>\n",
       "      <td>-0.011240</td>\n",
       "      <td>-0.055811</td>\n",
       "      <td>0.087108</td>\n",
       "      <td>0.051623</td>\n",
       "      <td>-0.042056</td>\n",
       "      <td>-0.066669</td>\n",
       "      <td>-0.018448</td>\n",
       "      <td>...</td>\n",
       "      <td>0.003971</td>\n",
       "      <td>0.060623</td>\n",
       "      <td>0.061555</td>\n",
       "      <td>0.015079</td>\n",
       "      <td>0.028624</td>\n",
       "      <td>-0.073406</td>\n",
       "      <td>-0.027791</td>\n",
       "      <td>-0.026536</td>\n",
       "      <td>0.005175</td>\n",
       "      <td>-0.026865</td>\n",
       "    </tr>\n",
       "    <tr>\n",
       "      <th>ziyaretçilerin</th>\n",
       "      <td>-0.157579</td>\n",
       "      <td>0.015820</td>\n",
       "      <td>0.056065</td>\n",
       "      <td>0.007031</td>\n",
       "      <td>-0.082792</td>\n",
       "      <td>0.060464</td>\n",
       "      <td>-0.031279</td>\n",
       "      <td>0.045727</td>\n",
       "      <td>0.025722</td>\n",
       "      <td>-0.037490</td>\n",
       "      <td>...</td>\n",
       "      <td>-0.007301</td>\n",
       "      <td>0.016531</td>\n",
       "      <td>-0.066774</td>\n",
       "      <td>0.003128</td>\n",
       "      <td>-0.126874</td>\n",
       "      <td>-0.099833</td>\n",
       "      <td>0.021727</td>\n",
       "      <td>-0.015166</td>\n",
       "      <td>0.014899</td>\n",
       "      <td>-0.071311</td>\n",
       "    </tr>\n",
       "    <tr>\n",
       "      <th>ip</th>\n",
       "      <td>-0.022103</td>\n",
       "      <td>0.127344</td>\n",
       "      <td>0.031323</td>\n",
       "      <td>-0.014199</td>\n",
       "      <td>-0.024021</td>\n",
       "      <td>0.013495</td>\n",
       "      <td>0.000649</td>\n",
       "      <td>0.039871</td>\n",
       "      <td>-0.088840</td>\n",
       "      <td>-0.081739</td>\n",
       "      <td>...</td>\n",
       "      <td>0.010576</td>\n",
       "      <td>0.072798</td>\n",
       "      <td>-0.040900</td>\n",
       "      <td>-0.105983</td>\n",
       "      <td>0.070004</td>\n",
       "      <td>-0.079335</td>\n",
       "      <td>-0.030621</td>\n",
       "      <td>-0.084071</td>\n",
       "      <td>0.030121</td>\n",
       "      <td>-0.012683</td>\n",
       "    </tr>\n",
       "    <tr>\n",
       "      <th>adresi</th>\n",
       "      <td>0.066656</td>\n",
       "      <td>-0.045850</td>\n",
       "      <td>0.011353</td>\n",
       "      <td>0.023845</td>\n",
       "      <td>-0.018300</td>\n",
       "      <td>-0.019117</td>\n",
       "      <td>0.049746</td>\n",
       "      <td>0.023449</td>\n",
       "      <td>-0.079959</td>\n",
       "      <td>-0.014143</td>\n",
       "      <td>...</td>\n",
       "      <td>-0.038910</td>\n",
       "      <td>0.117772</td>\n",
       "      <td>0.019391</td>\n",
       "      <td>-0.074028</td>\n",
       "      <td>-0.060765</td>\n",
       "      <td>-0.113108</td>\n",
       "      <td>0.088901</td>\n",
       "      <td>-0.002159</td>\n",
       "      <td>0.018068</td>\n",
       "      <td>-0.017342</td>\n",
       "    </tr>\n",
       "    <tr>\n",
       "      <th>ülke</th>\n",
       "      <td>0.059328</td>\n",
       "      <td>-0.022600</td>\n",
       "      <td>0.033430</td>\n",
       "      <td>-0.000180</td>\n",
       "      <td>-0.121959</td>\n",
       "      <td>-0.134915</td>\n",
       "      <td>-0.174018</td>\n",
       "      <td>-0.038452</td>\n",
       "      <td>-0.048770</td>\n",
       "      <td>0.017513</td>\n",
       "      <td>...</td>\n",
       "      <td>-0.078978</td>\n",
       "      <td>-0.008231</td>\n",
       "      <td>-0.014137</td>\n",
       "      <td>-0.064235</td>\n",
       "      <td>-0.001165</td>\n",
       "      <td>-0.096079</td>\n",
       "      <td>-0.064948</td>\n",
       "      <td>0.025830</td>\n",
       "      <td>-0.038948</td>\n",
       "      <td>-0.139727</td>\n",
       "    </tr>\n",
       "  </tbody>\n",
       "</table>\n",
       "<p>5 rows × 300 columns</p>\n",
       "</div>"
      ],
      "text/plain": [
       "                     0         1         2         3         4         5    \\\n",
       "ip2location    -0.101466  0.037244 -0.020054 -0.011240 -0.055811  0.087108   \n",
       "ziyaretçilerin -0.157579  0.015820  0.056065  0.007031 -0.082792  0.060464   \n",
       "ip             -0.022103  0.127344  0.031323 -0.014199 -0.024021  0.013495   \n",
       "adresi          0.066656 -0.045850  0.011353  0.023845 -0.018300 -0.019117   \n",
       "ülke            0.059328 -0.022600  0.033430 -0.000180 -0.121959 -0.134915   \n",
       "\n",
       "                     6         7         8         9    ...       290  \\\n",
       "ip2location     0.051623 -0.042056 -0.066669 -0.018448  ...  0.003971   \n",
       "ziyaretçilerin -0.031279  0.045727  0.025722 -0.037490  ... -0.007301   \n",
       "ip              0.000649  0.039871 -0.088840 -0.081739  ...  0.010576   \n",
       "adresi          0.049746  0.023449 -0.079959 -0.014143  ... -0.038910   \n",
       "ülke           -0.174018 -0.038452 -0.048770  0.017513  ... -0.078978   \n",
       "\n",
       "                     291       292       293       294       295       296  \\\n",
       "ip2location     0.060623  0.061555  0.015079  0.028624 -0.073406 -0.027791   \n",
       "ziyaretçilerin  0.016531 -0.066774  0.003128 -0.126874 -0.099833  0.021727   \n",
       "ip              0.072798 -0.040900 -0.105983  0.070004 -0.079335 -0.030621   \n",
       "adresi          0.117772  0.019391 -0.074028 -0.060765 -0.113108  0.088901   \n",
       "ülke           -0.008231 -0.014137 -0.064235 -0.001165 -0.096079 -0.064948   \n",
       "\n",
       "                     297       298       299  \n",
       "ip2location    -0.026536  0.005175 -0.026865  \n",
       "ziyaretçilerin -0.015166  0.014899 -0.071311  \n",
       "ip             -0.084071  0.030121 -0.012683  \n",
       "adresi         -0.002159  0.018068 -0.017342  \n",
       "ülke            0.025830 -0.038948 -0.139727  \n",
       "\n",
       "[5 rows x 300 columns]"
      ]
     },
     "execution_count": 15,
     "metadata": {},
     "output_type": "execute_result"
    }
   ],
   "source": [
    "vector_list = [w2v_model.wv[word] for word in cleared_words if word in w2v_model.wv.vocab]\n",
    "# Zip the words together with their vector representations\n",
    "word_vec_zip = zip(cleared_words, vector_list)\n",
    "\n",
    "# Cast to a dict so we can turn it into a DataFrame\n",
    "word_vec_dict = dict(word_vec_zip)\n",
    "df = pd.DataFrame.from_dict(word_vec_dict, orient='index')\n",
    "df.head(5)"
   ]
  },
  {
   "cell_type": "code",
   "execution_count": null,
   "metadata": {
    "pycharm": {
     "is_executing": true
    }
   },
   "outputs": [],
   "source": [
    "# Initialize t-SNE\n",
    "tsne = TSNE(n_components = 2, init = 'random', random_state = 10, perplexity = 100)\n",
    "\n",
    "# Use only 400 rows to shorten processing time\n",
    "tsne_df = tsne.fit_transform(df[:400])\n",
    "\n",
    "sns.set()\n",
    "# Initialize figure\n",
    "fig, ax = plt.subplots(figsize = (11.7, 8.27))\n",
    "sns.scatterplot(tsne_df[:, 0], tsne_df[:, 1], alpha = 0.5)\n",
    "\n",
    "# initialize list of texts\n",
    "texts = []\n",
    "words_to_plot = list(np.arange(0, 400, 10))\n",
    "\n",
    "# Append words to list\n",
    "for word in words_to_plot:\n",
    "    texts.append(plt.text(tsne_df[word, 0], tsne_df[word, 1], df.index[word], fontsize = 14))\n",
    "    \n",
    "# Plot text using adjust_text (because overlapping text is hard to read)\n",
    "adjust_text(texts, force_points = 0.4, force_text = 0.4, \n",
    "            expand_points = (2,1), expand_text = (1,2),\n",
    "            arrowprops = dict(arrowstyle = \"-\", color = 'black', lw = 0.5))\n",
    "\n",
    "plt.show()"
   ]
  }
 ],
 "metadata": {
  "kernelspec": {
   "display_name": "Python 3",
   "language": "python",
   "name": "python3"
  },
  "language_info": {
   "codemirror_mode": {
    "name": "ipython",
    "version": 3
   },
   "file_extension": ".py",
   "mimetype": "text/x-python",
   "name": "python",
   "nbconvert_exporter": "python",
   "pygments_lexer": "ipython3",
   "version": "3.7.7"
  },
  "pycharm": {
   "stem_cell": {
    "cell_type": "raw",
    "metadata": {
     "collapsed": false
    },
    "source": []
   }
  }
 },
 "nbformat": 4,
 "nbformat_minor": 1
}
