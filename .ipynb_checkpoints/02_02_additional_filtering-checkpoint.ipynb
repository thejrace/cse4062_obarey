{
 "cells": [
  {
   "cell_type": "code",
   "execution_count": 5,
   "metadata": {
    "pycharm": {
     "name": "#%%\n"
    }
   },
   "outputs": [],
   "source": [
    "import sys\n",
    "from time import time\n",
    "import pandas as pd"
   ]
  },
  {
   "cell_type": "code",
   "execution_count": null,
   "metadata": {
    "pycharm": {
     "is_executing": false,
     "name": "#%%\n"
    }
   },
   "outputs": [
    {
     "name": "stdout",
     "output_type": "stream",
     "text": [
      "5216"
     ]
    }
   ],
   "source": [
    "def hasNumbers(inputString):\n",
    "    return any(char.isdigit() for char in inputString)\n",
    "\n",
    "t = time()\n",
    "\n",
    "filtered = pd.DataFrame()\n",
    "    \n",
    "# Read labeled words\n",
    "df = pd.read_excel('data/labeled_words_single_v3.xlsx')\n",
    "\n",
    "counter = 0\n",
    "# Read Excel file and fill the dictionary\n",
    "for row in df.index:\n",
    "    word = str(df['Word'][row])\n",
    "    label = df['Label'][row]\n",
    "    \n",
    "    # if first letter is not uppercase, it can not be Location or Person\n",
    "    if not word[0].isupper() and ( label == 'Location' or label == 'Person' ):\n",
    "        continue\n",
    "        \n",
    "    # if word contains number it cannot be location, person, person type or organization\n",
    "    if hasNumbers(word) and (  label == 'Location' or label == 'Person' or label == 'PersonType' or label == 'Organization' ):\n",
    "        continue\n",
    "    \n",
    "    filtered = df.append({\n",
    "        'Word': word,\n",
    "        'Label': label,\n",
    "    }, ignore_index=True)\n",
    "    \n",
    "    counter += 1\n",
    "    #if counter == 100:\n",
    "    #    break\n",
    "    sys.stdout.write('\\r'+str(counter))\n",
    "\n",
    "print('Time to filter words categories: {} mins'.format(round((time() - t) / 60, 2)))"
   ]
  },
  {
   "cell_type": "code",
   "execution_count": 4,
   "metadata": {
    "pycharm": {
     "name": "#%%\n"
    }
   },
   "outputs": [
    {
     "data": {
      "text/html": [
       "<div>\n",
       "<style scoped>\n",
       "    .dataframe tbody tr th:only-of-type {\n",
       "        vertical-align: middle;\n",
       "    }\n",
       "\n",
       "    .dataframe tbody tr th {\n",
       "        vertical-align: top;\n",
       "    }\n",
       "\n",
       "    .dataframe thead th {\n",
       "        text-align: right;\n",
       "    }\n",
       "</style>\n",
       "<table border=\"1\" class=\"dataframe\">\n",
       "  <thead>\n",
       "    <tr style=\"text-align: right;\">\n",
       "      <th></th>\n",
       "      <th>Label</th>\n",
       "      <th>Word</th>\n",
       "    </tr>\n",
       "  </thead>\n",
       "  <tbody>\n",
       "    <tr>\n",
       "      <th>0</th>\n",
       "      <td>Person</td>\n",
       "      <td>Corina</td>\n",
       "    </tr>\n",
       "    <tr>\n",
       "      <th>1</th>\n",
       "      <td>Person</td>\n",
       "      <td>Casanova</td>\n",
       "    </tr>\n",
       "    <tr>\n",
       "      <th>2</th>\n",
       "      <td>Location</td>\n",
       "      <td>İsviçre</td>\n",
       "    </tr>\n",
       "    <tr>\n",
       "      <th>3</th>\n",
       "      <td>PersonType</td>\n",
       "      <td>Şansölyesidir</td>\n",
       "    </tr>\n",
       "    <tr>\n",
       "      <th>4</th>\n",
       "      <td>PersonType</td>\n",
       "      <td>avukat</td>\n",
       "    </tr>\n",
       "    <tr>\n",
       "      <th>...</th>\n",
       "      <td>...</td>\n",
       "      <td>...</td>\n",
       "    </tr>\n",
       "    <tr>\n",
       "      <th>95</th>\n",
       "      <td>Organization</td>\n",
       "      <td>APEC</td>\n",
       "    </tr>\n",
       "    <tr>\n",
       "      <th>96</th>\n",
       "      <td>Location</td>\n",
       "      <td>Tayvan</td>\n",
       "    </tr>\n",
       "    <tr>\n",
       "      <th>97</th>\n",
       "      <td>PersonType</td>\n",
       "      <td>bakan</td>\n",
       "    </tr>\n",
       "    <tr>\n",
       "      <th>98</th>\n",
       "      <td>DateTime</td>\n",
       "      <td>Eylül</td>\n",
       "    </tr>\n",
       "    <tr>\n",
       "      <th>99</th>\n",
       "      <td>Location</td>\n",
       "      <td>Avustralya'nın</td>\n",
       "    </tr>\n",
       "  </tbody>\n",
       "</table>\n",
       "<p>100 rows × 2 columns</p>\n",
       "</div>"
      ],
      "text/plain": [
       "           Label            Word\n",
       "0         Person          Corina\n",
       "1         Person        Casanova\n",
       "2       Location         İsviçre\n",
       "3     PersonType   Şansölyesidir\n",
       "4     PersonType          avukat\n",
       "..           ...             ...\n",
       "95  Organization            APEC\n",
       "96      Location          Tayvan\n",
       "97    PersonType           bakan\n",
       "98      DateTime           Eylül\n",
       "99      Location  Avustralya'nın\n",
       "\n",
       "[100 rows x 2 columns]"
      ]
     },
     "execution_count": 4,
     "metadata": {},
     "output_type": "execute_result"
    }
   ],
   "source": [
    "\n"
   ]
  }
 ],
 "metadata": {
  "kernelspec": {
   "display_name": "Python 3",
   "language": "python",
   "name": "python3"
  },
  "language_info": {
   "codemirror_mode": {
    "name": "ipython",
    "version": 3
   },
   "file_extension": ".py",
   "mimetype": "text/x-python",
   "name": "python",
   "nbconvert_exporter": "python",
   "pygments_lexer": "ipython3",
   "version": "3.7.7"
  },
  "pycharm": {
   "stem_cell": {
    "cell_type": "raw",
    "metadata": {
     "collapsed": false
    },
    "source": []
   }
  }
 },
 "nbformat": 4,
 "nbformat_minor": 1
}
