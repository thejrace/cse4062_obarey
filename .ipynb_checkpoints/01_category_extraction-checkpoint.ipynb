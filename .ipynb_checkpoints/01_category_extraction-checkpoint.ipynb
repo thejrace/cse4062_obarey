{
 "cells": [
  {
   "cell_type": "code",
   "execution_count": 15,
   "metadata": {
    "pycharm": {
     "is_executing": false,
     "name": "#%%\n"
    }
   },
   "outputs": [
    {
     "name": "stdout",
     "output_type": "stream",
     "text": [
      "{'galaxy_name': 6, 'politician_name': 45, 'person_nationality': 74, 'governmental_jurisdiction_basic_title': 9, 'court_jurisdiction_area_courts': 4, 'person_profession': 46, 'country_form_of_government': 4, 'country_languages_spoken': 10, 'location_containedby': 210, 'government_agency_name': 4, 'administrative_division_name': 7, 'location_area': 1, 'language_family_languages': 1, 'citytown_name': 134, 'tv_character_name': 5, 'operating_system_name': 44, 'organization_name': 19, 'software_software_genre': 14, 'person_name': 195, 'operating_system_release_date': 6, 'operating_system_includes_os_versions': 14, 'software_license': 6, 'operating_system_parent_os': 8, 'computer_processor_manufacturers': 5, 'operating_system_supported_architectures': 3, 'industry_name': 19, 'software_operating_system': 4, 'business_operation_industry': 3, 'sport_career_end': 15, 'inventor_inventions': 5, 'location_contains': 6, 'pro_athlete_to': 26, 'film_soundtrack': 13, 'film_character_actor': 6, 'special_music_video_performance_type_performance_note': 1, 'biofluid_name': 4, 'location_adjoins': 8, 'census_designated_place_name': 1, 'military_combatant_lower_estimate': 4, 'nl_province_name': 5, 'nl_province_capital': 2, 'country_first_level_divisions': 10, 'location_name': 32, 'nl_municipality_name': 1, 'computer_videogame_name': 17, 'event_name': 36, 'membership_organization_name': 11, 'location_primarily_containedby': 5, 'travel_destination_month': 34, 'tv_program_character': 3, 'jp_designated_city_name': 1, 'disease_name': 15, 'disease_includes_diseases': 2, 'deceased_person_cause_of_death': 4, 'disease_parent_disease': 2, 'disease_symptoms': 2, 'composer_name': 1, 'pro_athlete_career_start': 1, 'educational_institution_school_type': 3, 'country_administrative_divisions': 6, 'football_team_name': 16, 'football_player_position_s': 3, 'sports_facility_name': 27, 'river_name': 5, 'film_film_series': 1, 'river_mouth': 2, 'tourist_attraction_near_travel_destination': 4, 'sports_facility_from': 1, 'genre_name': 10, 'artist_genre': 21, 'album_release_type': 20, 'album_artist': 3, 'award_ceremony_award_nominee': 1, 'record_label_artist': 1, 'computer_videogame_game_series': 6, 'military_combatant_military_conflict': 6, 'person_date_of_birth': 56, 'de_city_name': 6, 'risk_factor_name': 13, 'film_genre': 65, 'film_rottentomatoes_id': 1, 'person_children': 19, 'tv_actor_series': 10, 'person_location': 36, 'monarch_name': 50, 'dated_location_date_founded': 5, 'dated_location_date_dissolved': 9, 'monarch_kingdom': 3, 'statistical_region_name': 3, 'military_conflict_military_commander': 9, 'politician_basic_title': 2, 'pro_athlete_team': 107, 'country_capital': 13, 'film_character': 41, 'military_commander_name': 4, 'military_person_name': 12, 'event_included_in_event': 10, 'person_ethnicity': 19, 'governmental_jurisdiction_district_represented': 8, 'location_events': 3, 'location_partially_containedby': 17, 'deceased_person_date_of_death': 13, 'event_start_date': 10, 'person_place_of_birth': 22, 'religion_sacred_sites': 1, 'field_of_study_name': 5, 'artist_name': 10, 'artist_active_start': 1, 'organization_citytown': 4, 'award_nominee_award': 4, 'composition_name': 21, 'award_nominee_nominated_for': 16, 'organism_classification_name': 48, 'organism_classification_rank': 26, 'website_name': 2, 'software_name': 37, 'composition_form': 12, 'country_name': 13, 'domesticated_animal_name': 13, 'organism_classification_rank_lower_rank': 4, 'person_religion': 6, 'person_parents': 15, 'monarch_from_date': 3, 'namesake_named_after': 7, 'film_subject_name': 1, 'book_subject_name': 7, 'comic_book_series_name': 2, 'film_name': 44, 'film_actor': 55, 'noble_person_noble_title': 1, 'person_or_entity_appearing_in_film_type_of_appearance': 3, 'film_written_by': 6, 'tv_genre_name': 1, 'organization_founder_name': 1, 'artist_album': 9, 'artist_track': 11, 'mountain_name': 8, 'mountain_mountain_type': 2, 'country_fifa_code': 21, 'geographical_feature_category': 2, 'composition_composer': 8, 'fr_department_name': 3, 'military_person_rank': 1, 'event_includes_event': 2, 'aircraft_model_aircraft_owner': 2, 'newspaper_name': 7, 'country_official_anthem_until': 1, 'pro_athlete_sport': 45, 'medical_treatment_name': 1, 'chemical_compound_name': 3, 'medical_treatment_used_to_treat': 4, 'disease_treatments': 2, 'sport_leagues': 24, 'pro_athlete_from': 8, 'artist_origin': 2, 'sports_team_location': 4, 'adaptation_adapted_from': 10, 'film_produced_by': 6, 'book_genre': 2, 'actor_character': 1, 'venue_name': 3, 'sport_career_start': 5, 'visual_art_support_name': 5, 'computer_scientist_name': 2, 'deceased_person_place_of_death': 7, 'award_nominee_year': 16, 'software_license_name': 1, 'organization_founders': 4, 'consumer_product_name': 1, 'glacier_name': 13, 'human_language_countries_spoken_in': 4, 'geographical_feature_category_name': 2, 'written_work_name': 11, 'written_work_author': 6, 'written_work_date_of_first_publication': 2, 'family_name': 2, 'country_official_language': 3, 'tv_actor_from': 3, 'tv_actor_character': 5, 'marriage_union_type_location_of_ceremony': 2, 'kingdom_rulers': 2, 'tv_series_episode_series': 4, 'person_from': 13, 'award_nominee_award_nominee': 2, 'person_type_of_union': 2, 'written_work_copyright_date': 2, 'moon_name': 1, 'planet_name': 3, 'celestial_object_category': 24, 'star_system_body_star_system': 4, 'astronomical_discovery_discoverer': 2, 'periodical_format_name': 3, 'deceased_person_name': 3, 'organism_classification_scientific_name': 11, 'tv_program_actor': 1, 'form_of_government_name': 4, 'person_institution': 3, 'author_works_written': 5, 'country_second_level_divisions': 14, 'person_major_field_of_study': 2, 'fictional_job_title_name': 1, 'person_spouse': 5, 'sports_team_founded': 4, 'politician_from': 2, 'military_commander_military_combatant': 4, 'country_official_anthem_since': 5, 'politician_to': 1, 'organization_founder_organizations_founded': 2, 'holiday_name': 1, 'ingredient_more_general_ingredient': 6, 'organism_classification_higher_classification': 3, 'person_gender': 2, 'award_nominated_work_year': 4, 'film_featured_film_locations': 1, 'writer_film': 2, 'book_characters': 2, 'politician_jurisdiction_of_office': 4, 'governmental_jurisdiction_office_holder': 1, 'tennis_player_name': 13, 'tennis_player_year_turned_pro': 1, 'tennis_player_event': 3, 'olympic_athlete_medal': 3, 'star_name': 10, 'galaxy_constellation': 2, 'hybrid_parent_gender_parent': 2, 'name_source_namesakes': 2, 'dimension_name': 1, 'namesake_name': 3, 'uk_civil_parish_name': 7, 'olympic_athlete_sport': 4, 'football_player_name': 3, 'organism_classification_lower_classifications': 7, 'breed_origin_breeds_originating_here': 5, 'album_name': 1, 'album_release_date': 3, 'artist_label': 2, 'football_match_name': 9, 'non_profit_organization_name': 9, 'us_state_name': 1, 'celestial_object_category_name': 1, 'non_profit_organization_date_registered': 1, 'employer_person': 2, 'film_story_by': 7, 'award_winner_year': 19, 'country_currency_used': 7, 'football_world_cup_name': 2, 'award_winner_award': 3, 'uk_metropolitan_borough_name': 21, 'sports_team_championships': 7, 'award_category_award_winner': 2, 'airline_name': 3, 'sports_award_winner_award': 4, 'uk_unitary_authority_name': 1, 'football_match_scorer': 4, 'uk_non_metropolitan_district_name': 1, 'football_match_player': 4, 'location_partially_contains': 2, 'governmental_jurisdiction_from': 1, 'organization_member_from': 1, 'film_valid_date': 2, 'film_initial_release_date': 6, 'film_film_format': 1, 'tv_program_producer_type': 4, 'currency_prefix_symbol': 1, 'award_winning_work_year': 1, 'opera_character_name': 5, 'actor_special_performance_type': 1, 'sports_facility_teams': 12, 'it_comune_name': 7, 'competition_name': 47, 'event_end_date': 5, 'person_quotations': 2, 'person_to': 5, 'editor_film': 1, 'building_building_function': 2, 'location_people_born_here': 4, 'royal_line_name': 1, 'religion_types_of_places_of_worship': 3, 'industry_companies': 1, 'tv_series_episode_name': 4, 'tv_series_episode_air_date': 4, 'tv_series_episode_director': 6, 'tv_series_episode_writer': 3, 'island_island_group': 1, 'fictional_character_partner': 1, 'newspaper_circulation_area_newspapers': 1, 'person_company': 9, 'airport_name': 7, 'airport_iata': 1, 'airport_icao': 1, 'airport_serves': 2, 'airport_operator': 1, 'olympic_athlete_name': 1, 'opera_name': 1, 'award_category_presenting_organization': 4, 'play_characters': 1, 'art_subject_name': 1, 'artist_role': 2, 'musical_group_role': 5, 'group_member_group': 5, 'group_member_start': 1, 'producer_releases_produced': 8, 'lyricist_lyrics_written': 9, 'composer_compositions': 7, 'producer_tracks_produced': 11, 'person_in_fiction_representations_in_fiction': 4, 'album_releases': 3, 'fictional_character_name': 1, 'award_winner_honored_for': 2, 'cinematographer_film': 1, 'performance_role_start': 1, 'tv_actor_episodes_appeared_in': 2, 'basketball_player_name': 2, 'tv_program_name': 11, 'computer_videogame_publisher': 1, 'computer_videogame_cvg_genre': 2, 'computer_videogame_release_date': 3, 'religious_leadership_jurisdiction_organization': 2, 'tv_program_hulu_id': 1, 'celestial_object_name': 2, 'military_conflict_name': 9, 'travel_destination_tourist_attractions': 1, 'person_height_meters': 1, 'special_music_video_performance_type_special_music_video_performance_type': 1, 'magazine_name': 3, 'literary_genre_name': 1, 'listed_site_name': 3, 'sport_name': 1, 'noble_person_name': 26, 'ship_name': 3, 'ship_launched': 1, 'sports_league_season_name': 22, 'film_directed_by': 2, 'author_name': 5, 'quotation_subject_name': 2, 'university_name': 5, 'organization_organization_type': 2, 'chemical_classification_name': 7, 'chemical_classification_higher_classifications': 1, 'film_character_name': 1, 'influence_node_influenced_by': 1, 'tv_program_genre': 2, 'tv_program_air_date_of_first_episode': 6, 'tv_program_producer': 4, 'tv_program_start_date': 1, 'tv_program_to': 2, 'military_conflict_military_personnel_involved': 10, 'person_sibling': 5, 'film_character_film': 2, 'organization_member_organization': 1, 'character_species_name': 1, 'computer_name': 2, 'profession_name': 2, 'royal_line_kingdom_s_ruled': 1, 'monarch_royal_line': 1, 'religious_leadership_title_leader': 1, 'monarch_to_date': 1, 'organization_legal_structure': 1, 'product_category_name': 2, 'visual_artist_art_forms': 1, 'person_start_date': 1, 'animal_name': 1, 'tv_program_network': 2, 'tv_program_air_date_of_final_episode': 3, 'military_commander_military_conflict': 2, 'military_conflict_locations': 1, 'military_conflict_military_combatant': 2, 'government_office_category_name': 3, 'radio_format_name': 1, 'system_of_nobility_rank': 1}\n",
      "Time to tokenize: 0.34 mins\n"
     ]
    }
   ],
   "source": [
    "import csv\n",
    "import nltk\n",
    "from time import time\n",
    "\n",
    "# Read dataset and create a dictionary for all entity categories with their frequency\n",
    "\n",
    "t = time()\n",
    "with open(\"data/data_origin.DUMP\", encoding=\"utf8\") as tsv:\n",
    "    raw_categories = {}\n",
    "    for line in csv.reader(tsv, dialect=\"excel-tab\"):\n",
    "        tokenized = line[1]\n",
    "        \n",
    "        all_words = nltk.word_tokenize(tokenized)\n",
    "      \n",
    "        for word in all_words:\n",
    "            # Ignore 0's there are a lot of them\n",
    "            if word is 'O':\n",
    "                continue\n",
    "            \n",
    "            if word.startswith('B-') or word.startswith('I-'):\n",
    "                word = word.replace('B-', '').replace('I-', '')\n",
    "                if word in raw_categories:\n",
    "                    raw_categories[word] = raw_categories[word] + 1\n",
    "                else:\n",
    "                    raw_categories[word] = 1\n",
    "                \n",
    "print('Time to create dictionary: {} mins'.format(round((time() - t) / 60, 4)))"
   ]
  }
 ],
 "metadata": {
  "kernelspec": {
   "display_name": "Python 3",
   "language": "python",
   "name": "python3"
  },
  "language_info": {
   "codemirror_mode": {
    "name": "ipython",
    "version": 3
   },
   "file_extension": ".py",
   "mimetype": "text/x-python",
   "name": "python",
   "nbconvert_exporter": "python",
   "pygments_lexer": "ipython3",
   "version": "3.7.7"
  },
  "pycharm": {
   "stem_cell": {
    "cell_type": "raw",
    "metadata": {
     "collapsed": false
    },
    "source": []
   }
  }
 },
 "nbformat": 4,
 "nbformat_minor": 1
}
