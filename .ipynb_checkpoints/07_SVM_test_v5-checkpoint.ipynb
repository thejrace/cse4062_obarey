{
 "cells": [
  {
   "cell_type": "code",
   "execution_count": 1,
   "metadata": {
    "pycharm": {
     "is_executing": false,
     "name": "#%%\n"
    }
   },
   "outputs": [],
   "source": [
    "from time import time\n",
    "import pandas as pd\n",
    "import matplotlib.pyplot as plt\n",
    "import seaborn as sn\n",
    "from sklearn import preprocessing\n",
    "from sklearn import svm\n",
    "from sklearn import metrics\n",
    "from sklearn.metrics import confusion_matrix, classification_report\n",
    "from sklearn.model_selection import train_test_split, StratifiedKFold, cross_val_score\n",
    "from sklearn.preprocessing import StandardScaler\n",
    "\n",
    "data = pd.read_excel('data/all_features_v2_dataset_no_header.xlsx')\n",
    "\n",
    "X = data.iloc[:,0:13]  # features\n",
    "Y = data.iloc[:,-1]    # label column"
   ]
  },
  {
   "cell_type": "code",
   "execution_count": 2,
   "metadata": {},
   "outputs": [],
   "source": [
    "# 10% test, 90% train\n",
    "X_train, X_test, Y_train, Y_test = train_test_split(X.to_numpy(), Y.to_numpy(), test_size=0.1,random_state=109)\n",
    "\n",
    "# Transforming non numerical labels into numerical labels\n",
    "encoder = preprocessing.LabelEncoder()\n",
    "\n",
    "# encoding train labels \n",
    "encoder.fit(Y_train)\n",
    "y_train = encoder.transform(Y_train)\n",
    "\n",
    "# encoding test labels \n",
    "encoder.fit(Y_test)\n",
    "y_test = encoder.transform(Y_test)\n",
    "\n",
    "# Scaling the Train and Test feature set \n",
    "\n",
    "scaler = StandardScaler()\n",
    "X_train_scaled = scaler.fit_transform(X_train)\n",
    "X_test_scaled = scaler.transform(X_test)\n",
    "\n",
    "skf = StratifiedKFold(n_splits=10)\n"
   ]
  },
  {
   "cell_type": "code",
   "execution_count": null,
   "metadata": {},
   "outputs": [],
   "source": [
    "t = time()\n",
    "\n",
    "#Create a svm Classifier\n",
    "clf = svm.SVC(kernel='rbf', probability=True, gamma = 0.1) # Linear Kernel\n",
    "\n",
    "#Train the model using the training sets\n",
    "clf.fit(X_train_scaled, y_train)\n",
    "\n",
    "#Predict the response for test dataset\n",
    "y_pred = clf.predict(X_test_scaled)\n",
    "\n",
    "print('Time train: {} mins'.format(round((time() - t) / 60, 2)))"
   ]
  },
  {
   "cell_type": "code",
   "execution_count": 4,
   "metadata": {
    "pycharm": {
     "name": "#%%\n"
    }
   },
   "outputs": [
    {
     "name": "stdout",
     "output_type": "stream",
     "text": [
      "Accuracy: 0.7392795883361921\n",
      "Precision: 0.7392795883361921\n",
      "Recall: 0.7392795883361921\n"
     ]
    }
   ],
   "source": [
    "# Model Accuracy: how often is the classifier correct?\n",
    "print(\"Accuracy:\",metrics.accuracy_score(y_test, y_pred))\n",
    "\n",
    "# Model Precision: what percentage of positive tuples are labeled as such?\n",
    "print(\"Precision:\",metrics.precision_score(y_test, y_pred, average='micro'))\n",
    "\n",
    "# Model Recall: what percentage of positive tuples are labelled as such?\n",
    "print(\"Recall:\",metrics.recall_score(y_test, y_pred, average='micro'))"
   ]
  },
  {
   "cell_type": "code",
   "execution_count": 5,
   "metadata": {
    "pycharm": {
     "name": "#%%\n"
    }
   },
   "outputs": [
    {
     "name": "stdout",
     "output_type": "stream",
     "text": [
      "[[  22    0    0    5    0    1    3    0   10]\n",
      " [   0  201    0   16    1   10   15   11   41]\n",
      " [   0    3    9   13    0   10   13    7   33]\n",
      " [   0    0    1 1751   32   46  426    0   39]\n",
      " [   1    0    0   54  113    6   16    3   29]\n",
      " [   2    1    0  146   11  301  113   49  117]\n",
      " [   2    0    0  304   12   26 3556    0   65]\n",
      " [   0    1    1   27    0   35   54  228   81]\n",
      " [   2   20    3  116   10   80  257   52  715]]\n",
      "\n",
      "\n",
      "              precision    recall  f1-score   support\n",
      "\n",
      "    Currency       0.76      0.54      0.63        41\n",
      "    DateTime       0.89      0.68      0.77       295\n",
      "       Event       0.64      0.10      0.18        88\n",
      "    Location       0.72      0.76      0.74      2295\n",
      " Nationality       0.63      0.51      0.56       222\n",
      "Organization       0.58      0.41      0.48       740\n",
      "      Person       0.80      0.90      0.84      3965\n",
      "  PersonType       0.65      0.53      0.59       427\n",
      "       Thing       0.63      0.57      0.60      1255\n",
      "\n",
      "    accuracy                           0.74      9328\n",
      "   macro avg       0.70      0.56      0.60      9328\n",
      "weighted avg       0.73      0.74      0.73      9328\n",
      "\n",
      "[0.70632369 0.74705252 0.7449089  0.72240086 0.72240086 0.73419078\n",
      " 0.74062165 0.74169346 0.72854077 0.75965665]\n"
     ]
    }
   ],
   "source": [
    "Y_pred_label = list(encoder.inverse_transform(y_pred))\n",
    "\n",
    "# Making the Confusion Matrix\n",
    "confusion_matrix_res = confusion_matrix(Y_test,Y_pred_label)\n",
    "print(confusion_matrix_res)\n",
    "print(\"\\n\")\n",
    "print(classification_report(Y_test,Y_pred_label))\n",
    "\n",
    "cross_val_score_result = cross_val_score(clf, X_test, y_test, cv=10)\n",
    "\n",
    "print(cross_val_score_result)"
   ]
  },
  {
   "cell_type": "code",
   "execution_count": 6,
   "metadata": {
    "pycharm": {
     "name": "#%%\n"
    }
   },
   "outputs": [
    {
     "data": {
      "text/plain": [
       "<matplotlib.axes._subplots.AxesSubplot at 0x1cc46627fc8>"
      ]
     },
     "execution_count": 6,
     "metadata": {},
     "output_type": "execute_result"
    },
    {
     "data": {
      "image/png": "[encoded data removed]",
      "text/plain": [
       "<Figure size 720x504 with 2 Axes>"
      ]
     },
     "metadata": {
      "needs_background": "light"
     },
     "output_type": "display_data"
    }
   ],
   "source": [
    "labels = ['Currency', 'DateTime', 'Event', 'Location', 'Nationality', 'Organization', 'Person', 'PersonType', 'Thing']\n",
    "\n",
    "df_cm = pd.DataFrame(confusion_matrix_res, index = [i for i in labels],\n",
    "                  columns = [i for i in labels])\n",
    "plt.figure(figsize = (10,7))\n",
    "sn.heatmap(df_cm, annot=True, fmt='d', cmap=\"YlGnBu\")\n"
   ]
  },
  {
   "cell_type": "code",
   "execution_count": 20,
   "metadata": {},
   "outputs": [
    {
     "name": "stdout",
     "output_type": "stream",
     "text": [
      "{0: array([0.00064173, 0.00290019, 0.00150028, 0.1647322 , 0.00431801,\n",
      "       0.2318615 , 0.5532212 , 0.02044678, 0.0203781 ]), 1: array([2.79874781e-04, 5.06338416e-03, 2.07320223e-03, 2.15566756e-01,\n",
      "       8.26850521e-03, 1.06319175e-02, 6.01671345e-01, 8.40747545e-03,\n",
      "       1.48037539e-01]), 2: array([0.0030159 , 0.00642904, 0.00494176, 0.82662522, 0.00166555,\n",
      "       0.11434679, 0.02133989, 0.00264683, 0.01898904]), 3: array([2.96102351e-04, 2.88353808e-03, 3.55965590e-03, 7.05543021e-01,\n",
      "       4.22639907e-03, 7.27877509e-03, 1.24300195e-01, 3.63324536e-03,\n",
      "       1.48279068e-01]), 4: array([0.00076866, 0.00629843, 0.00481006, 0.40846369, 0.00073979,\n",
      "       0.01916689, 0.5405168 , 0.00659276, 0.01264291]), 5: array([0.00051746, 0.00514362, 0.00278166, 0.35804901, 0.04423021,\n",
      "       0.04580237, 0.38989538, 0.0304172 , 0.12316309]), 6: array([0.00104655, 0.0030116 , 0.00099177, 0.74485885, 0.00243597,\n",
      "       0.0060928 , 0.18951352, 0.00207356, 0.04997538]), 7: array([1.63693061e-04, 2.28761335e-03, 8.94486498e-04, 4.50162774e-02,\n",
      "       2.89178151e-03, 3.74451732e-02, 8.84602219e-01, 1.08208770e-02,\n",
      "       1.58778791e-02]), 8: array([2.96649197e-03, 9.93748321e-03, 1.48913508e-02, 1.86343479e-04,\n",
      "       4.54104497e-01, 7.13376654e-02, 1.28741296e-04, 1.21820731e-01,\n",
      "       3.24626696e-01])}\n"
     ]
    }
   ],
   "source": [
    "from sklearn.metrics import roc_curve\n",
    "from sklearn.metrics import roc_auc_score\n",
    "\n",
    "\n",
    "probs = clf.predict_proba(X_test_scaled)\n",
    "prob_per_class_dictionary = dict(zip(clf.classes_, probs))\n",
    "#print(prob_per_class_dictionary)\n",
    "#print(probs)"
   ]
  }
 ],
 "metadata": {
  "kernelspec": {
   "display_name": "Python 3",
   "language": "python",
   "name": "python3"
  },
  "language_info": {
   "codemirror_mode": {
    "name": "ipython",
    "version": 3
   },
   "file_extension": ".py",
   "mimetype": "text/x-python",
   "name": "python",
   "nbconvert_exporter": "python",
   "pygments_lexer": "ipython3",
   "version": "3.7.7"
  },
  "pycharm": {
   "stem_cell": {
    "cell_type": "raw",
    "metadata": {
     "collapsed": false
    },
    "source": []
   }
  }
 },
 "nbformat": 4,
 "nbformat_minor": 1
}
