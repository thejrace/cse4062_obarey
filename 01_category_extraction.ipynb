{
 "cells": [
  {
   "cell_type": "code",
   "execution_count": 9,
   "metadata": {
    "pycharm": {
     "is_executing": false,
     "name": "#%%\n"
    }
   },
   "outputs": [
    {
     "name": "stdout",
     "text": [
      "Time to create dictionary: 6.16 mins\n"
     ],
     "output_type": "stream"
    }
   ],
   "source": [
    "import csv\n",
    "import nltk\n",
    "from time import time\n",
    "\n",
    "\"\"\"\n",
    "Part 1: \n",
    "    Objective: Read dataset and create a dictionary for all entity categories with their frequency.\n",
    "\n",
    "    Output:\n",
    "        sorted_categories = {\n",
    "            'person_name'   : 1000,\n",
    "            'location_name' : 1234\n",
    "        }\n",
    "\"\"\"\n",
    "\n",
    "t = time()\n",
    "with open(\"data/data_origin.DUMP\", encoding=\"utf8\") as tsv:\n",
    "    raw_categories = {}\n",
    "    raw_category_examples = {}\n",
    "    for line in csv.reader(tsv, dialect=\"excel-tab\"):\n",
    "        tokenized = line[1]\n",
    "        sentence = line[2]\n",
    "        \n",
    "        all_words = nltk.word_tokenize(sentence)\n",
    "        all_tokens = nltk.word_tokenize(tokenized)\n",
    "\n",
    "        for x in range(len(all_words)):\n",
    "            try:\n",
    "            \n",
    "                token_raw = all_tokens[x]\n",
    "                # Ignore 0's there are a lot of them\n",
    "                if token_raw is 'O':\n",
    "                    continue\n",
    "                \n",
    "                if token_raw.startswith('B-') or token_raw.startswith('I-'):\n",
    "                    token = token_raw.replace('B-', '').replace('I-', '')\n",
    "                    if token in raw_categories:\n",
    "                        raw_categories[token] = raw_categories[token] + 1\n",
    "                        if len(raw_category_examples[token]) < 15:\n",
    "                            word = all_words[x]\n",
    "                            raw_category_examples[token].append(word)\n",
    "                            \n",
    "                    else:\n",
    "                        raw_categories[token] = 1\n",
    "                        raw_category_examples[token] = [word]\n",
    "            \n",
    "            except IndexError:\n",
    "                pass\n",
    "              \n",
    "\n",
    "    \n",
    "print('Time to create dictionary: {} mins'.format(round((time() - t) / 60, 4)))"
   ]
  },
  {
   "cell_type": "code",
   "execution_count": 13,
   "metadata": {
    "pycharm": {
     "is_executing": false,
     "name": "#%%\n"
    }
   },
   "outputs": [
    {
     "data": {
      "text/plain": "      Count                                           Examples  \\\n0  141205.0  X'in, Hill, Ralf, Rudolf, Möller, Moeller, Moe...   \n1   89304.0  Fransızca, Pakistan, Pakistan, Pakistan'ın, Te...   \n2   59708.0  Casanova, İsviçre'nin, Amerika, Birleşik, Devl...   \n3   58080.0  Mahkemesi, sunucu, oyunun, oyuncu, fizikçi, ki...   \n4   43630.0  Peştuca, Denton, Cisco, Cisco'da, Sucre, Sucre...   \n\n                  Token  \n0           person_name  \n1  location_containedby  \n2    person_nationality  \n3     person_profession  \n4         citytown_name  ",
      "text/html": "<div>\n<style scoped>\n    .dataframe tbody tr th:only-of-type {\n        vertical-align: middle;\n    }\n\n    .dataframe tbody tr th {\n        vertical-align: top;\n    }\n\n    .dataframe thead th {\n        text-align: right;\n    }\n</style>\n<table border=\"1\" class=\"dataframe\">\n  <thead>\n    <tr style=\"text-align: right;\">\n      <th></th>\n      <th>Count</th>\n      <th>Examples</th>\n      <th>Token</th>\n    </tr>\n  </thead>\n  <tbody>\n    <tr>\n      <th>0</th>\n      <td>141205.0</td>\n      <td>X'in, Hill, Ralf, Rudolf, Möller, Moeller, Moe...</td>\n      <td>person_name</td>\n    </tr>\n    <tr>\n      <th>1</th>\n      <td>89304.0</td>\n      <td>Fransızca, Pakistan, Pakistan, Pakistan'ın, Te...</td>\n      <td>location_containedby</td>\n    </tr>\n    <tr>\n      <th>2</th>\n      <td>59708.0</td>\n      <td>Casanova, İsviçre'nin, Amerika, Birleşik, Devl...</td>\n      <td>person_nationality</td>\n    </tr>\n    <tr>\n      <th>3</th>\n      <td>58080.0</td>\n      <td>Mahkemesi, sunucu, oyunun, oyuncu, fizikçi, ki...</td>\n      <td>person_profession</td>\n    </tr>\n    <tr>\n      <th>4</th>\n      <td>43630.0</td>\n      <td>Peştuca, Denton, Cisco, Cisco'da, Sucre, Sucre...</td>\n      <td>citytown_name</td>\n    </tr>\n  </tbody>\n</table>\n</div>"
     },
     "metadata": {},
     "output_type": "execute_result",
     "execution_count": 13
    }
   ],
   "source": [
    "import pandas as pd\n",
    "df = pd.DataFrame()\n",
    "\n",
    "sorted_categories = {k: v for k, v in sorted(raw_categories.items(), reverse=True, key=lambda item: item[1])}\n",
    "\n",
    "for token in sorted_categories:\n",
    "    df = df.append({\n",
    "            'Token': token,\n",
    "            'Count': raw_categories[token],\n",
    "            'Examples': \", \".join(raw_category_examples[token])\n",
    "        }, ignore_index=True)\n",
    "                \n",
    "    \n",
    "df.head(5)"
   ]
  },
  {
   "cell_type": "code",
   "execution_count": 15,
   "outputs": [],
   "source": [
    "writer = pd.ExcelWriter('data/labeled_categories_with_examples.xlsx', engine='xlsxwriter')\n",
    "\n",
    "# Convert the dataframe to an XlsxWriter Excel object.\n",
    "df.to_excel(writer, sheet_name='Sheet1', index=False)\n",
    "\n",
    "# Close the Pandas Excel writer and output the Excel file.\n",
    "writer.save()\n"
   ],
   "metadata": {
    "collapsed": false,
    "pycharm": {
     "name": "#%%\n",
     "is_executing": false
    }
   }
  }
 ],
 "metadata": {
  "kernelspec": {
   "display_name": "Python 3",
   "language": "python",
   "name": "python3"
  },
  "language_info": {
   "codemirror_mode": {
    "name": "ipython",
    "version": 3
   },
   "file_extension": ".py",
   "mimetype": "text/x-python",
   "name": "python",
   "nbconvert_exporter": "python",
   "pygments_lexer": "ipython3",
   "version": "3.7.7"
  },
  "pycharm": {
   "stem_cell": {
    "cell_type": "raw",
    "source": [],
    "metadata": {
     "collapsed": false
    }
   }
  }
 },
 "nbformat": 4,
 "nbformat_minor": 1
}