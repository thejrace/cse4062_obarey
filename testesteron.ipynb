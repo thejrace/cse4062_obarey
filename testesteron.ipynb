{
 "cells": [
  {
   "cell_type": "code",
   "execution_count": 5,
   "metadata": {
    "pycharm": {
     "is_executing": false,
     "name": "#%%\n"
    }
   },
   "outputs": [
    {
     "data": {
      "text/html": [
       "<div>\n",
       "<style scoped>\n",
       "    .dataframe tbody tr th:only-of-type {\n",
       "        vertical-align: middle;\n",
       "    }\n",
       "\n",
       "    .dataframe tbody tr th {\n",
       "        vertical-align: top;\n",
       "    }\n",
       "\n",
       "    .dataframe thead th {\n",
       "        text-align: right;\n",
       "    }\n",
       "</style>\n",
       "<table border=\"1\" class=\"dataframe\">\n",
       "  <thead>\n",
       "    <tr style=\"text-align: right;\">\n",
       "      <th></th>\n",
       "      <th>Category</th>\n",
       "      <th>Sentence</th>\n",
       "      <th>Tokens</th>\n",
       "    </tr>\n",
       "  </thead>\n",
       "  <tbody>\n",
       "    <tr>\n",
       "      <th>0</th>\n",
       "      <td>astronomy</td>\n",
       "      <td>NGC 5713 Başak takımyıldızı bölgesinde bulunan...</td>\n",
       "      <td>B-galaxy_name I-galaxy_name O O O O O O O O</td>\n",
       "    </tr>\n",
       "    <tr>\n",
       "      <th>1</th>\n",
       "      <td>astronomy</td>\n",
       "      <td>Birçok katalogda sarmal gökada olarak sınıflan...</td>\n",
       "      <td>O O O O O O B-galaxy_name I-galaxy_name O O O ...</td>\n",
       "    </tr>\n",
       "    <tr>\n",
       "      <th>2</th>\n",
       "      <td>government</td>\n",
       "      <td>Corina Casanova , İsviçre Federal Şansölyesidir .</td>\n",
       "      <td>B-politician_name I-politician_name O B-person...</td>\n",
       "    </tr>\n",
       "    <tr>\n",
       "      <th>3</th>\n",
       "      <td>law</td>\n",
       "      <td>Casanova , İsviçre Federal Yüksek Mahkemesi es...</td>\n",
       "      <td>B-politician_name O B-court_jurisdiction_area_...</td>\n",
       "    </tr>\n",
       "    <tr>\n",
       "      <th>4</th>\n",
       "      <td>government</td>\n",
       "      <td>Corina Casanova bir federal parlementerdir .</td>\n",
       "      <td>B-politician_name I-politician_name O B-countr...</td>\n",
       "    </tr>\n",
       "    <tr>\n",
       "      <th>5</th>\n",
       "      <td>location</td>\n",
       "      <td>Casanova , Hristiyan Demokrat Halk Partisi üye...</td>\n",
       "      <td>B-politician_name O O O O O O O O O O O O O O ...</td>\n",
       "    </tr>\n",
       "    <tr>\n",
       "      <th>6</th>\n",
       "      <td>government</td>\n",
       "      <td>İsviçre Dışişleri Bakanlığı , İsviçre federal ...</td>\n",
       "      <td>B-government_agency_name I-government_agency_n...</td>\n",
       "    </tr>\n",
       "    <tr>\n",
       "      <th>7</th>\n",
       "      <td>government</td>\n",
       "      <td>İsviçre'nin dış ilişkilerini sürdürmekle görev...</td>\n",
       "      <td>B-person_nationality O O O O O</td>\n",
       "    </tr>\n",
       "    <tr>\n",
       "      <th>8</th>\n",
       "      <td>location</td>\n",
       "      <td>Gilgit Baltistan veya ( Pakistan Kuzey Bölgele...</td>\n",
       "      <td>B-administrative_division_name I-administrativ...</td>\n",
       "    </tr>\n",
       "    <tr>\n",
       "      <th>9</th>\n",
       "      <td>location</td>\n",
       "      <td>72496 km alan kaplamakta ve oldukça dağlık bir...</td>\n",
       "      <td>B-location_area O O O O O O O O O O</td>\n",
       "    </tr>\n",
       "  </tbody>\n",
       "</table>\n",
       "</div>"
      ],
      "text/plain": [
       "     Category                                           Sentence  \\\n",
       "0   astronomy  NGC 5713 Başak takımyıldızı bölgesinde bulunan...   \n",
       "1   astronomy  Birçok katalogda sarmal gökada olarak sınıflan...   \n",
       "2  government  Corina Casanova , İsviçre Federal Şansölyesidir .   \n",
       "3         law  Casanova , İsviçre Federal Yüksek Mahkemesi es...   \n",
       "4  government       Corina Casanova bir federal parlementerdir .   \n",
       "5    location  Casanova , Hristiyan Demokrat Halk Partisi üye...   \n",
       "6  government  İsviçre Dışişleri Bakanlığı , İsviçre federal ...   \n",
       "7  government  İsviçre'nin dış ilişkilerini sürdürmekle görev...   \n",
       "8    location  Gilgit Baltistan veya ( Pakistan Kuzey Bölgele...   \n",
       "9    location  72496 km alan kaplamakta ve oldukça dağlık bir...   \n",
       "\n",
       "                                              Tokens  \n",
       "0        B-galaxy_name I-galaxy_name O O O O O O O O  \n",
       "1  O O O O O O B-galaxy_name I-galaxy_name O O O ...  \n",
       "2  B-politician_name I-politician_name O B-person...  \n",
       "3  B-politician_name O B-court_jurisdiction_area_...  \n",
       "4  B-politician_name I-politician_name O B-countr...  \n",
       "5  B-politician_name O O O O O O O O O O O O O O ...  \n",
       "6  B-government_agency_name I-government_agency_n...  \n",
       "7                     B-person_nationality O O O O O  \n",
       "8  B-administrative_division_name I-administrativ...  \n",
       "9                B-location_area O O O O O O O O O O  "
      ]
     },
     "execution_count": 5,
     "metadata": {},
     "output_type": "execute_result"
    }
   ],
   "source": [
    "import csv\n",
    "import nltk\n",
    "from time import time\n",
    "from tabulate import tabulate\n",
    "\n",
    "\"\"\"\n",
    "Part 1: \n",
    "    Objective: Read dataset and create a dictionary for all entity categories with their frequency.\n",
    "\n",
    "    Output:\n",
    "        sorted_categories = {\n",
    "            'person_name'   : 1000,\n",
    "            'location_name' : 1234\n",
    "        }\n",
    "\"\"\"\n",
    "import pandas as pd\n",
    "\n",
    "df = pd.DataFrame({'Category': [], 'Sentence': [], 'Tokens': []})\n",
    "t = time()\n",
    "counter = 0\n",
    "with open(\"data/data_origin.DUMP\", encoding=\"utf8\") as tsv:\n",
    "    raw_categories = {}\n",
    "    raw_category_examples = {}\n",
    "    for line in csv.reader(tsv, dialect=\"excel-tab\"):\n",
    "        tokenized = line[1]\n",
    "        sentence = line[2]\n",
    "        \n",
    "        df = df.append({'Category':line[0], 'Sentence':sentence, 'Tokens':line[1]}, ignore_index = True)\n",
    "        \n",
    "        counter += 1\n",
    "        if counter == 10:\n",
    "            break\n",
    "        \n",
    "    \n",
    "              \n",
    "\n",
    "df\n",
    "\n",
    "#print('Time to create dictionary: {} mins'.format(round((time() - t) / 60, 4)))"
   ]
  },
  {
   "cell_type": "code",
   "execution_count": 6,
   "metadata": {
    "pycharm": {
     "is_executing": false,
     "name": "#%%\n"
    }
   },
   "outputs": [
    {
     "data": {
      "text/html": [
       "<div>\n",
       "<style scoped>\n",
       "    .dataframe tbody tr th:only-of-type {\n",
       "        vertical-align: middle;\n",
       "    }\n",
       "\n",
       "    .dataframe tbody tr th {\n",
       "        vertical-align: top;\n",
       "    }\n",
       "\n",
       "    .dataframe thead th {\n",
       "        text-align: right;\n",
       "    }\n",
       "</style>\n",
       "<table border=\"1\" class=\"dataframe\">\n",
       "  <thead>\n",
       "    <tr style=\"text-align: right;\">\n",
       "      <th></th>\n",
       "    </tr>\n",
       "  </thead>\n",
       "  <tbody>\n",
       "  </tbody>\n",
       "</table>\n",
       "</div>"
      ],
      "text/plain": [
       "Empty DataFrame\n",
       "Columns: []\n",
       "Index: []"
      ]
     },
     "execution_count": 6,
     "metadata": {},
     "output_type": "execute_result"
    }
   ],
   "source": [
    "import pandas as pd\n",
    "df = pd.DataFrame()\n",
    "\n",
    "sorted_categories = {k: v for k, v in sorted(raw_categories.items(), reverse=True, key=lambda item: item[1])}\n",
    "\n",
    "for token in sorted_categories:\n",
    "    df = df.append({\n",
    "            'Token': token,\n",
    "            'Count': raw_categories[token],\n",
    "            'Examples': \", \".join(raw_category_examples[token])\n",
    "        }, ignore_index=True)\n",
    "                \n",
    "    \n",
    "df.head(5)"
   ]
  },
  {
   "cell_type": "code",
   "execution_count": 15,
   "metadata": {
    "pycharm": {
     "is_executing": false,
     "name": "#%%\n"
    }
   },
   "outputs": [],
   "source": [
    "writer = pd.ExcelWriter('data/labeled_categories_with_examples.xlsx', engine='xlsxwriter')\n",
    "\n",
    "# Convert the dataframe to an XlsxWriter Excel object.\n",
    "df.to_excel(writer, sheet_name='Sheet1', index=False)\n",
    "\n",
    "# Close the Pandas Excel writer and output the Excel file.\n",
    "writer.save()\n"
   ]
  }
 ],
 "metadata": {
  "kernelspec": {
   "display_name": "Python 3",
   "language": "python",
   "name": "python3"
  },
  "language_info": {
   "codemirror_mode": {
    "name": "ipython",
    "version": 3
   },
   "file_extension": ".py",
   "mimetype": "text/x-python",
   "name": "python",
   "nbconvert_exporter": "python",
   "pygments_lexer": "ipython3",
   "version": "3.7.7"
  },
  "pycharm": {
   "stem_cell": {
    "cell_type": "raw",
    "metadata": {
     "collapsed": false
    },
    "source": []
   }
  }
 },
 "nbformat": 4,
 "nbformat_minor": 1
}
