{
 "cells": [
  {
   "cell_type": "code",
   "execution_count": 1,
   "metadata": {
    "pycharm": {
     "is_executing": false
    }
   },
   "outputs": [],
   "source": [
    "import csv\n",
    "import string\n",
    "from time import time  # To time our operations\n",
    "import multiprocessing\n",
    "from gensim.models import Word2Vec\n",
    "import nltk\n",
    "from nltk.corpus import stopwords\n",
    "\n",
    "import logging  # Setting up the loggings to monitor gensim\n",
    "logging.basicConfig(format=\"%(levelname)s - %(asctime)s: %(message)s\", datefmt= '%H:%M:%S', level=logging.INFO)"
   ]
  },
  {
   "cell_type": "code",
   "execution_count": 2,
   "metadata": {
    "pycharm": {
     "is_executing": false,
     "name": "#%%\n"
    }
   },
   "outputs": [
    {
     "name": "stderr",
     "output_type": "stream",
     "text": [
      "[nltk_data] Downloading package punkt to\n",
      "[nltk_data]     C:\\Users\\JesterPC\\AppData\\Roaming\\nltk_data...\n",
      "[nltk_data]   Package punkt is already up-to-date!\n",
      "[nltk_data] Downloading package stopwords to\n",
      "[nltk_data]     C:\\Users\\JesterPC\\AppData\\Roaming\\nltk_data...\n",
      "[nltk_data]   Package stopwords is already up-to-date!\n"
     ]
    },
    {
     "data": {
      "text/plain": [
       "True"
      ]
     },
     "execution_count": 2,
     "metadata": {},
     "output_type": "execute_result"
    }
   ],
   "source": [
    "nltk.download('punkt')\n",
    "nltk.download('stopwords')"
   ]
  },
  {
   "cell_type": "code",
   "execution_count": 22,
   "metadata": {
    "pycharm": {
     "is_executing": false,
     "name": "#%%\n"
    }
   },
   "outputs": [],
   "source": [
    "# Count the number of cores in a computer\n",
    "cores = multiprocessing.cpu_count()\n",
    "\n",
    "with open(\"data/data_origin.DUMP\", encoding=\"utf8\") as tsv:\n",
    "    counter = 0\n",
    "\n",
    "    sentences = []\n",
    "    for line in csv.reader(tsv, dialect=\"excel-tab\"):\n",
    "        counter += 1\n",
    "        sentence = line[2]\n",
    "\n",
    "        # trim punctuation\n",
    "        sentence = sentence.translate(str.maketrans('', '', string.punctuation)).lower()\n",
    "\n",
    "        cleared_words = []\n",
    "        # print(sentence)\n",
    "\n",
    "        all_words = nltk.word_tokenize(sentence)\n",
    "        # print(all_words)\n",
    "\n",
    "        for word in all_words:\n",
    "            if word not in stopwords.words('turkish'):\n",
    "                cleared_words.append(word)\n",
    "\n",
    "        sentences.append(cleared_words)\n",
    "\n",
    "        if counter == 10000:\n",
    "            break\n",
    "            "
   ]
  },
  {
   "cell_type": "code",
   "execution_count": 35,
   "metadata": {
    "pycharm": {
     "is_executing": false,
     "name": "#%%\n"
    }
   },
   "outputs": [
    {
     "name": "stderr",
     "output_type": "stream",
     "text": [
      "INFO - 22:39:16: collecting all words and their counts\n",
      "INFO - 22:39:16: PROGRESS: at sentence #0, processed 0 words, keeping 0 word types\n",
      "INFO - 22:39:16: PROGRESS: at sentence #100, processed 1377 words, keeping 933 word types\n",
      "INFO - 22:39:16: PROGRESS: at sentence #200, processed 2701 words, keeping 1771 word types\n",
      "INFO - 22:39:16: PROGRESS: at sentence #300, processed 3818 words, keeping 2475 word types\n",
      "INFO - 22:39:16: PROGRESS: at sentence #400, processed 5095 words, keeping 3163 word types\n",
      "INFO - 22:39:16: PROGRESS: at sentence #500, processed 6415 words, keeping 3816 word types\n",
      "INFO - 22:39:16: PROGRESS: at sentence #600, processed 7992 words, keeping 4349 word types\n",
      "INFO - 22:39:16: PROGRESS: at sentence #700, processed 9303 words, keeping 4943 word types\n",
      "INFO - 22:39:16: PROGRESS: at sentence #800, processed 10733 words, keeping 5537 word types\n",
      "INFO - 22:39:16: PROGRESS: at sentence #900, processed 12145 words, keeping 6107 word types\n",
      "INFO - 22:39:16: PROGRESS: at sentence #1000, processed 13552 words, keeping 6670 word types\n",
      "INFO - 22:39:16: PROGRESS: at sentence #1100, processed 14766 words, keeping 7124 word types\n",
      "INFO - 22:39:16: PROGRESS: at sentence #1200, processed 16126 words, keeping 7719 word types\n",
      "INFO - 22:39:16: PROGRESS: at sentence #1300, processed 17336 words, keeping 8195 word types\n",
      "INFO - 22:39:16: PROGRESS: at sentence #1400, processed 18551 words, keeping 8630 word types\n",
      "INFO - 22:39:16: PROGRESS: at sentence #1500, processed 19957 words, keeping 9144 word types\n",
      "INFO - 22:39:16: PROGRESS: at sentence #1600, processed 20998 words, keeping 9539 word types\n",
      "INFO - 22:39:16: PROGRESS: at sentence #1700, processed 22195 words, keeping 9961 word types\n",
      "INFO - 22:39:16: PROGRESS: at sentence #1800, processed 23484 words, keeping 10418 word types\n",
      "INFO - 22:39:16: PROGRESS: at sentence #1900, processed 24754 words, keeping 10879 word types\n",
      "INFO - 22:39:16: PROGRESS: at sentence #2000, processed 25884 words, keeping 11262 word types\n",
      "INFO - 22:39:16: PROGRESS: at sentence #2100, processed 27180 words, keeping 11698 word types\n",
      "INFO - 22:39:16: PROGRESS: at sentence #2200, processed 28326 words, keeping 12093 word types\n",
      "INFO - 22:39:16: PROGRESS: at sentence #2300, processed 29689 words, keeping 12524 word types\n",
      "INFO - 22:39:16: PROGRESS: at sentence #2400, processed 30919 words, keeping 12926 word types\n",
      "INFO - 22:39:16: PROGRESS: at sentence #2500, processed 32093 words, keeping 13326 word types\n",
      "INFO - 22:39:16: PROGRESS: at sentence #2600, processed 33570 words, keeping 13833 word types\n",
      "INFO - 22:39:16: PROGRESS: at sentence #2700, processed 34965 words, keeping 14311 word types\n",
      "INFO - 22:39:16: PROGRESS: at sentence #2800, processed 36296 words, keeping 14718 word types\n",
      "INFO - 22:39:16: PROGRESS: at sentence #2900, processed 37458 words, keeping 15088 word types\n",
      "INFO - 22:39:16: PROGRESS: at sentence #3000, processed 38737 words, keeping 15509 word types\n",
      "INFO - 22:39:16: PROGRESS: at sentence #3100, processed 40112 words, keeping 15923 word types\n",
      "INFO - 22:39:16: PROGRESS: at sentence #3200, processed 41261 words, keeping 16307 word types\n",
      "INFO - 22:39:16: PROGRESS: at sentence #3300, processed 42754 words, keeping 16766 word types\n",
      "INFO - 22:39:16: PROGRESS: at sentence #3400, processed 44258 words, keeping 17138 word types\n",
      "INFO - 22:39:16: PROGRESS: at sentence #3500, processed 45595 words, keeping 17480 word types\n",
      "INFO - 22:39:16: PROGRESS: at sentence #3600, processed 47076 words, keeping 17803 word types\n",
      "INFO - 22:39:16: PROGRESS: at sentence #3700, processed 48485 words, keeping 18170 word types\n",
      "INFO - 22:39:16: PROGRESS: at sentence #3800, processed 49966 words, keeping 18594 word types\n",
      "INFO - 22:39:16: PROGRESS: at sentence #3900, processed 51269 words, keeping 18938 word types\n",
      "INFO - 22:39:16: PROGRESS: at sentence #4000, processed 52586 words, keeping 19336 word types\n",
      "INFO - 22:39:16: PROGRESS: at sentence #4100, processed 53958 words, keeping 19697 word types\n",
      "INFO - 22:39:16: PROGRESS: at sentence #4200, processed 55275 words, keeping 20049 word types\n",
      "INFO - 22:39:16: PROGRESS: at sentence #4300, processed 56488 words, keeping 20398 word types\n",
      "INFO - 22:39:16: PROGRESS: at sentence #4400, processed 57832 words, keeping 20821 word types\n",
      "INFO - 22:39:16: PROGRESS: at sentence #4500, processed 59328 words, keeping 21210 word types\n",
      "INFO - 22:39:16: PROGRESS: at sentence #4600, processed 60541 words, keeping 21523 word types\n",
      "INFO - 22:39:16: PROGRESS: at sentence #4700, processed 61901 words, keeping 21821 word types\n",
      "INFO - 22:39:16: PROGRESS: at sentence #4800, processed 63267 words, keeping 22185 word types\n",
      "INFO - 22:39:16: PROGRESS: at sentence #4900, processed 64835 words, keeping 22647 word types\n",
      "INFO - 22:39:16: PROGRESS: at sentence #5000, processed 66137 words, keeping 22915 word types\n",
      "INFO - 22:39:16: PROGRESS: at sentence #5100, processed 67513 words, keeping 23299 word types\n",
      "INFO - 22:39:16: PROGRESS: at sentence #5200, processed 68891 words, keeping 23589 word types\n",
      "INFO - 22:39:16: PROGRESS: at sentence #5300, processed 70147 words, keeping 23860 word types\n",
      "INFO - 22:39:16: PROGRESS: at sentence #5400, processed 71392 words, keeping 24127 word types\n",
      "INFO - 22:39:16: PROGRESS: at sentence #5500, processed 72615 words, keeping 24370 word types\n",
      "INFO - 22:39:16: PROGRESS: at sentence #5600, processed 73867 words, keeping 24569 word types\n",
      "INFO - 22:39:16: PROGRESS: at sentence #5700, processed 75250 words, keeping 24850 word types\n",
      "INFO - 22:39:16: PROGRESS: at sentence #5800, processed 76497 words, keeping 25161 word types\n",
      "INFO - 22:39:16: PROGRESS: at sentence #5900, processed 77813 words, keeping 25472 word types\n",
      "INFO - 22:39:16: PROGRESS: at sentence #6000, processed 79053 words, keeping 25767 word types\n",
      "INFO - 22:39:16: PROGRESS: at sentence #6100, processed 80454 words, keeping 26100 word types\n",
      "INFO - 22:39:16: PROGRESS: at sentence #6200, processed 81753 words, keeping 26398 word types\n",
      "INFO - 22:39:16: PROGRESS: at sentence #6300, processed 82945 words, keeping 26704 word types\n",
      "INFO - 22:39:16: PROGRESS: at sentence #6400, processed 84417 words, keeping 27070 word types\n",
      "INFO - 22:39:16: PROGRESS: at sentence #6500, processed 85911 words, keeping 27432 word types\n",
      "INFO - 22:39:16: PROGRESS: at sentence #6600, processed 87052 words, keeping 27759 word types\n",
      "INFO - 22:39:16: PROGRESS: at sentence #6700, processed 88492 words, keeping 28162 word types\n",
      "INFO - 22:39:16: PROGRESS: at sentence #6800, processed 89987 words, keeping 28489 word types\n",
      "INFO - 22:39:16: PROGRESS: at sentence #6900, processed 91221 words, keeping 28804 word types\n",
      "INFO - 22:39:16: PROGRESS: at sentence #7000, processed 92204 words, keeping 29047 word types\n",
      "INFO - 22:39:16: PROGRESS: at sentence #7100, processed 93705 words, keeping 29410 word types\n",
      "INFO - 22:39:16: PROGRESS: at sentence #7200, processed 94944 words, keeping 29681 word types\n",
      "INFO - 22:39:16: PROGRESS: at sentence #7300, processed 96333 words, keeping 29983 word types\n",
      "INFO - 22:39:16: PROGRESS: at sentence #7400, processed 97486 words, keeping 30189 word types\n",
      "INFO - 22:39:16: PROGRESS: at sentence #7500, processed 98743 words, keeping 30486 word types\n",
      "INFO - 22:39:16: PROGRESS: at sentence #7600, processed 99991 words, keeping 30797 word types\n",
      "INFO - 22:39:16: PROGRESS: at sentence #7700, processed 101339 words, keeping 31148 word types\n",
      "INFO - 22:39:16: PROGRESS: at sentence #7800, processed 102735 words, keeping 31411 word types\n",
      "INFO - 22:39:16: PROGRESS: at sentence #7900, processed 103911 words, keeping 31651 word types\n",
      "INFO - 22:39:16: PROGRESS: at sentence #8000, processed 105201 words, keeping 31868 word types\n",
      "INFO - 22:39:16: PROGRESS: at sentence #8100, processed 106421 words, keeping 32157 word types\n",
      "INFO - 22:39:16: PROGRESS: at sentence #8200, processed 107801 words, keeping 32449 word types\n",
      "INFO - 22:39:16: PROGRESS: at sentence #8300, processed 109045 words, keeping 32673 word types\n",
      "INFO - 22:39:16: PROGRESS: at sentence #8400, processed 110274 words, keeping 32930 word types\n",
      "INFO - 22:39:16: PROGRESS: at sentence #8500, processed 111558 words, keeping 33220 word types\n",
      "INFO - 22:39:16: PROGRESS: at sentence #8600, processed 112743 words, keeping 33506 word types\n"
     ]
    },
    {
     "name": "stderr",
     "output_type": "stream",
     "text": [
      "INFO - 22:39:16: PROGRESS: at sentence #8700, processed 113941 words, keeping 33769 word types\n",
      "INFO - 22:39:16: PROGRESS: at sentence #8800, processed 115252 words, keeping 34107 word types\n",
      "INFO - 22:39:16: PROGRESS: at sentence #8900, processed 116663 words, keeping 34392 word types\n",
      "INFO - 22:39:16: PROGRESS: at sentence #9000, processed 118001 words, keeping 34691 word types\n",
      "INFO - 22:39:16: PROGRESS: at sentence #9100, processed 119118 words, keeping 34898 word types\n",
      "INFO - 22:39:16: PROGRESS: at sentence #9200, processed 120333 words, keeping 35138 word types\n",
      "INFO - 22:39:16: PROGRESS: at sentence #9300, processed 121641 words, keeping 35364 word types\n",
      "INFO - 22:39:16: PROGRESS: at sentence #9400, processed 122885 words, keeping 35545 word types\n",
      "INFO - 22:39:16: PROGRESS: at sentence #9500, processed 124546 words, keeping 35903 word types\n",
      "INFO - 22:39:16: PROGRESS: at sentence #9600, processed 126084 words, keeping 36250 word types\n",
      "INFO - 22:39:16: PROGRESS: at sentence #9700, processed 127348 words, keeping 36495 word types\n",
      "INFO - 22:39:16: PROGRESS: at sentence #9800, processed 128664 words, keeping 36815 word types\n",
      "INFO - 22:39:16: PROGRESS: at sentence #9900, processed 129943 words, keeping 37095 word types\n",
      "INFO - 22:39:16: collected 37339 word types from a corpus of 131166 raw words and 10000 sentences\n",
      "INFO - 22:39:16: Loading a fresh vocabulary\n",
      "INFO - 22:39:17: effective_min_count=2 retains 14069 unique words (37% of original 37339, drops 23270)\n",
      "INFO - 22:39:17: effective_min_count=2 leaves 107896 word corpus (82% of original 131166, drops 23270)\n",
      "INFO - 22:39:17: deleting the raw counts dictionary of 37339 items\n",
      "INFO - 22:39:17: sample=6e-05 downsamples 1133 most-common words\n",
      "INFO - 22:39:17: downsampling leaves estimated 77952 word corpus (72.2% of prior 107896)\n",
      "INFO - 22:39:17: estimated required memory for 14069 words and 500 dimensions: 63310500 bytes\n",
      "INFO - 22:39:17: resetting layer weights\n"
     ]
    },
    {
     "name": "stdout",
     "output_type": "stream",
     "text": [
      "Time to build vocab: 0.09 mins\n"
     ]
    }
   ],
   "source": [
    "#print(sentences)\n",
    "w2v_model = Word2Vec(min_count=2,\n",
    "                     window=2,\n",
    "                     size=500,\n",
    "                     sample=6e-5,\n",
    "                     alpha=0.03,\n",
    "                     min_alpha=0.0007,\n",
    "                     negative=20,\n",
    "                     workers=cores - 1)\n",
    "t = time()\n",
    "\n",
    "w2v_model.build_vocab(sentences, progress_per=100)\n",
    "\n",
    "print('Time to build vocab: {} mins'.format(round((time() - t) / 60, 2)))"
   ]
  },
  {
   "cell_type": "code",
   "execution_count": 36,
   "metadata": {
    "pycharm": {
     "is_executing": false,
     "name": "#%%\n"
    }
   },
   "outputs": [
    {
     "name": "stderr",
     "output_type": "stream",
     "text": [
      "INFO - 22:39:21: training model with 5 workers on 14069 vocabulary and 500 features, using sg=0 hs=0 sample=6e-05 negative=20 window=2\n",
      "INFO - 22:39:22: worker thread finished; awaiting finish of 4 more threads\n",
      "INFO - 22:39:22: worker thread finished; awaiting finish of 3 more threads\n",
      "INFO - 22:39:22: worker thread finished; awaiting finish of 2 more threads\n",
      "INFO - 22:39:22: worker thread finished; awaiting finish of 1 more threads\n",
      "INFO - 22:39:22: worker thread finished; awaiting finish of 0 more threads\n",
      "INFO - 22:39:22: EPOCH - 1 : training on 131166 raw words (78074 effective words) took 0.8s, 93104 effective words/s\n",
      "INFO - 22:39:23: worker thread finished; awaiting finish of 4 more threads\n",
      "INFO - 22:39:23: worker thread finished; awaiting finish of 3 more threads\n",
      "INFO - 22:39:23: worker thread finished; awaiting finish of 2 more threads\n",
      "INFO - 22:39:23: worker thread finished; awaiting finish of 1 more threads\n",
      "INFO - 22:39:23: worker thread finished; awaiting finish of 0 more threads\n",
      "INFO - 22:39:23: EPOCH - 2 : training on 131166 raw words (78006 effective words) took 0.8s, 97088 effective words/s\n",
      "INFO - 22:39:24: worker thread finished; awaiting finish of 4 more threads\n",
      "INFO - 22:39:24: worker thread finished; awaiting finish of 3 more threads\n",
      "INFO - 22:39:24: worker thread finished; awaiting finish of 2 more threads\n",
      "INFO - 22:39:24: worker thread finished; awaiting finish of 1 more threads\n",
      "INFO - 22:39:24: worker thread finished; awaiting finish of 0 more threads\n",
      "INFO - 22:39:24: EPOCH - 3 : training on 131166 raw words (78019 effective words) took 0.8s, 98658 effective words/s\n",
      "INFO - 22:39:24: worker thread finished; awaiting finish of 4 more threads\n",
      "INFO - 22:39:25: worker thread finished; awaiting finish of 3 more threads\n",
      "INFO - 22:39:25: worker thread finished; awaiting finish of 2 more threads\n",
      "INFO - 22:39:25: worker thread finished; awaiting finish of 1 more threads\n",
      "INFO - 22:39:25: worker thread finished; awaiting finish of 0 more threads\n",
      "INFO - 22:39:25: EPOCH - 4 : training on 131166 raw words (78051 effective words) took 0.7s, 106853 effective words/s\n",
      "INFO - 22:39:25: worker thread finished; awaiting finish of 4 more threads\n",
      "INFO - 22:39:25: worker thread finished; awaiting finish of 3 more threads\n",
      "INFO - 22:39:25: worker thread finished; awaiting finish of 2 more threads\n",
      "INFO - 22:39:25: worker thread finished; awaiting finish of 1 more threads\n",
      "INFO - 22:39:25: worker thread finished; awaiting finish of 0 more threads\n",
      "INFO - 22:39:25: EPOCH - 5 : training on 131166 raw words (77963 effective words) took 0.8s, 102367 effective words/s\n",
      "INFO - 22:39:26: worker thread finished; awaiting finish of 4 more threads\n",
      "INFO - 22:39:26: worker thread finished; awaiting finish of 3 more threads\n",
      "INFO - 22:39:26: worker thread finished; awaiting finish of 2 more threads\n",
      "INFO - 22:39:26: worker thread finished; awaiting finish of 1 more threads\n",
      "INFO - 22:39:26: worker thread finished; awaiting finish of 0 more threads\n",
      "INFO - 22:39:26: EPOCH - 6 : training on 131166 raw words (77931 effective words) took 0.8s, 99766 effective words/s\n",
      "INFO - 22:39:27: worker thread finished; awaiting finish of 4 more threads\n",
      "INFO - 22:39:27: worker thread finished; awaiting finish of 3 more threads\n",
      "INFO - 22:39:27: worker thread finished; awaiting finish of 2 more threads\n",
      "INFO - 22:39:27: worker thread finished; awaiting finish of 1 more threads\n",
      "INFO - 22:39:27: worker thread finished; awaiting finish of 0 more threads\n",
      "INFO - 22:39:27: EPOCH - 7 : training on 131166 raw words (78018 effective words) took 0.8s, 100512 effective words/s\n",
      "INFO - 22:39:28: worker thread finished; awaiting finish of 4 more threads\n",
      "INFO - 22:39:28: worker thread finished; awaiting finish of 3 more threads\n",
      "INFO - 22:39:28: worker thread finished; awaiting finish of 2 more threads\n",
      "INFO - 22:39:28: worker thread finished; awaiting finish of 1 more threads\n",
      "INFO - 22:39:28: worker thread finished; awaiting finish of 0 more threads\n",
      "INFO - 22:39:28: EPOCH - 8 : training on 131166 raw words (77906 effective words) took 0.8s, 103420 effective words/s\n",
      "INFO - 22:39:28: worker thread finished; awaiting finish of 4 more threads\n",
      "INFO - 22:39:28: worker thread finished; awaiting finish of 3 more threads\n",
      "INFO - 22:39:29: worker thread finished; awaiting finish of 2 more threads\n",
      "INFO - 22:39:29: worker thread finished; awaiting finish of 1 more threads\n",
      "INFO - 22:39:29: worker thread finished; awaiting finish of 0 more threads\n",
      "INFO - 22:39:29: EPOCH - 9 : training on 131166 raw words (77899 effective words) took 0.8s, 102217 effective words/s\n",
      "INFO - 22:39:29: worker thread finished; awaiting finish of 4 more threads\n",
      "INFO - 22:39:29: worker thread finished; awaiting finish of 3 more threads\n",
      "INFO - 22:39:29: worker thread finished; awaiting finish of 2 more threads\n",
      "INFO - 22:39:29: worker thread finished; awaiting finish of 1 more threads\n",
      "INFO - 22:39:29: worker thread finished; awaiting finish of 0 more threads\n",
      "INFO - 22:39:29: EPOCH - 10 : training on 131166 raw words (77739 effective words) took 0.8s, 94617 effective words/s\n",
      "INFO - 22:39:30: worker thread finished; awaiting finish of 4 more threads\n",
      "INFO - 22:39:30: worker thread finished; awaiting finish of 3 more threads\n",
      "INFO - 22:39:30: worker thread finished; awaiting finish of 2 more threads\n",
      "INFO - 22:39:30: worker thread finished; awaiting finish of 1 more threads\n",
      "INFO - 22:39:30: worker thread finished; awaiting finish of 0 more threads\n",
      "INFO - 22:39:30: EPOCH - 11 : training on 131166 raw words (78060 effective words) took 0.8s, 94010 effective words/s\n",
      "INFO - 22:39:31: worker thread finished; awaiting finish of 4 more threads\n",
      "INFO - 22:39:31: worker thread finished; awaiting finish of 3 more threads\n",
      "INFO - 22:39:31: worker thread finished; awaiting finish of 2 more threads\n",
      "INFO - 22:39:31: worker thread finished; awaiting finish of 1 more threads\n",
      "INFO - 22:39:31: worker thread finished; awaiting finish of 0 more threads\n",
      "INFO - 22:39:31: EPOCH - 12 : training on 131166 raw words (77734 effective words) took 0.8s, 94503 effective words/s\n",
      "INFO - 22:39:32: worker thread finished; awaiting finish of 4 more threads\n",
      "INFO - 22:39:32: worker thread finished; awaiting finish of 3 more threads\n",
      "INFO - 22:39:32: worker thread finished; awaiting finish of 2 more threads\n",
      "INFO - 22:39:32: worker thread finished; awaiting finish of 1 more threads\n",
      "INFO - 22:39:32: worker thread finished; awaiting finish of 0 more threads\n",
      "INFO - 22:39:32: EPOCH - 13 : training on 131166 raw words (77938 effective words) took 0.8s, 95546 effective words/s\n",
      "INFO - 22:39:33: worker thread finished; awaiting finish of 4 more threads\n",
      "INFO - 22:39:33: worker thread finished; awaiting finish of 3 more threads\n",
      "INFO - 22:39:33: worker thread finished; awaiting finish of 2 more threads\n",
      "INFO - 22:39:33: worker thread finished; awaiting finish of 1 more threads\n",
      "INFO - 22:39:33: worker thread finished; awaiting finish of 0 more threads\n",
      "INFO - 22:39:33: EPOCH - 14 : training on 131166 raw words (78032 effective words) took 0.8s, 97835 effective words/s\n",
      "INFO - 22:39:33: worker thread finished; awaiting finish of 4 more threads\n",
      "INFO - 22:39:33: worker thread finished; awaiting finish of 3 more threads\n",
      "INFO - 22:39:34: worker thread finished; awaiting finish of 2 more threads\n",
      "INFO - 22:39:34: worker thread finished; awaiting finish of 1 more threads\n",
      "INFO - 22:39:34: worker thread finished; awaiting finish of 0 more threads\n",
      "INFO - 22:39:34: EPOCH - 15 : training on 131166 raw words (77924 effective words) took 0.8s, 97703 effective words/s\n",
      "INFO - 22:39:34: worker thread finished; awaiting finish of 4 more threads\n",
      "INFO - 22:39:34: worker thread finished; awaiting finish of 3 more threads\n",
      "INFO - 22:39:34: worker thread finished; awaiting finish of 2 more threads\n",
      "INFO - 22:39:34: worker thread finished; awaiting finish of 1 more threads\n",
      "INFO - 22:39:34: worker thread finished; awaiting finish of 0 more threads\n",
      "INFO - 22:39:34: EPOCH - 16 : training on 131166 raw words (77808 effective words) took 0.8s, 97109 effective words/s\n",
      "INFO - 22:39:35: worker thread finished; awaiting finish of 4 more threads\n",
      "INFO - 22:39:35: worker thread finished; awaiting finish of 3 more threads\n",
      "INFO - 22:39:35: worker thread finished; awaiting finish of 2 more threads\n"
     ]
    },
    {
     "name": "stderr",
     "output_type": "stream",
     "text": [
      "INFO - 22:39:35: worker thread finished; awaiting finish of 1 more threads\n",
      "INFO - 22:39:35: worker thread finished; awaiting finish of 0 more threads\n",
      "INFO - 22:39:35: EPOCH - 17 : training on 131166 raw words (78012 effective words) took 0.8s, 97607 effective words/s\n",
      "INFO - 22:39:36: worker thread finished; awaiting finish of 4 more threads\n",
      "INFO - 22:39:36: worker thread finished; awaiting finish of 3 more threads\n",
      "INFO - 22:39:36: worker thread finished; awaiting finish of 2 more threads\n",
      "INFO - 22:39:36: worker thread finished; awaiting finish of 1 more threads\n",
      "INFO - 22:39:36: worker thread finished; awaiting finish of 0 more threads\n",
      "INFO - 22:39:36: EPOCH - 18 : training on 131166 raw words (77854 effective words) took 0.8s, 98691 effective words/s\n",
      "INFO - 22:39:37: worker thread finished; awaiting finish of 4 more threads\n",
      "INFO - 22:39:37: worker thread finished; awaiting finish of 3 more threads\n",
      "INFO - 22:39:37: worker thread finished; awaiting finish of 2 more threads\n",
      "INFO - 22:39:37: worker thread finished; awaiting finish of 1 more threads\n",
      "INFO - 22:39:37: worker thread finished; awaiting finish of 0 more threads\n",
      "INFO - 22:39:37: EPOCH - 19 : training on 131166 raw words (78011 effective words) took 0.8s, 98874 effective words/s\n",
      "INFO - 22:39:38: worker thread finished; awaiting finish of 4 more threads\n",
      "INFO - 22:39:38: worker thread finished; awaiting finish of 3 more threads\n",
      "INFO - 22:39:38: worker thread finished; awaiting finish of 2 more threads\n",
      "INFO - 22:39:38: worker thread finished; awaiting finish of 1 more threads\n",
      "INFO - 22:39:38: worker thread finished; awaiting finish of 0 more threads\n",
      "INFO - 22:39:38: EPOCH - 20 : training on 131166 raw words (77946 effective words) took 0.8s, 93329 effective words/s\n",
      "INFO - 22:39:38: worker thread finished; awaiting finish of 4 more threads\n",
      "INFO - 22:39:38: worker thread finished; awaiting finish of 3 more threads\n",
      "INFO - 22:39:38: worker thread finished; awaiting finish of 2 more threads\n",
      "INFO - 22:39:38: worker thread finished; awaiting finish of 1 more threads\n",
      "INFO - 22:39:38: worker thread finished; awaiting finish of 0 more threads\n",
      "INFO - 22:39:38: EPOCH - 21 : training on 131166 raw words (77918 effective words) took 0.8s, 99803 effective words/s\n",
      "INFO - 22:39:39: worker thread finished; awaiting finish of 4 more threads\n",
      "INFO - 22:39:39: worker thread finished; awaiting finish of 3 more threads\n",
      "INFO - 22:39:39: worker thread finished; awaiting finish of 2 more threads\n",
      "INFO - 22:39:39: worker thread finished; awaiting finish of 1 more threads\n",
      "INFO - 22:39:39: worker thread finished; awaiting finish of 0 more threads\n",
      "INFO - 22:39:39: EPOCH - 22 : training on 131166 raw words (78229 effective words) took 0.8s, 102862 effective words/s\n",
      "INFO - 22:39:40: worker thread finished; awaiting finish of 4 more threads\n",
      "INFO - 22:39:40: worker thread finished; awaiting finish of 3 more threads\n",
      "INFO - 22:39:40: worker thread finished; awaiting finish of 2 more threads\n",
      "INFO - 22:39:40: worker thread finished; awaiting finish of 1 more threads\n",
      "INFO - 22:39:40: worker thread finished; awaiting finish of 0 more threads\n",
      "INFO - 22:39:40: EPOCH - 23 : training on 131166 raw words (77988 effective words) took 0.8s, 100181 effective words/s\n",
      "INFO - 22:39:41: worker thread finished; awaiting finish of 4 more threads\n",
      "INFO - 22:39:41: worker thread finished; awaiting finish of 3 more threads\n",
      "INFO - 22:39:41: worker thread finished; awaiting finish of 2 more threads\n",
      "INFO - 22:39:41: worker thread finished; awaiting finish of 1 more threads\n",
      "INFO - 22:39:41: worker thread finished; awaiting finish of 0 more threads\n",
      "INFO - 22:39:41: EPOCH - 24 : training on 131166 raw words (78010 effective words) took 0.8s, 101089 effective words/s\n",
      "INFO - 22:39:41: worker thread finished; awaiting finish of 4 more threads\n",
      "INFO - 22:39:42: worker thread finished; awaiting finish of 3 more threads\n",
      "INFO - 22:39:42: worker thread finished; awaiting finish of 2 more threads\n",
      "INFO - 22:39:42: worker thread finished; awaiting finish of 1 more threads\n",
      "INFO - 22:39:42: worker thread finished; awaiting finish of 0 more threads\n",
      "INFO - 22:39:42: EPOCH - 25 : training on 131166 raw words (77940 effective words) took 0.8s, 103056 effective words/s\n",
      "INFO - 22:39:42: worker thread finished; awaiting finish of 4 more threads\n",
      "INFO - 22:39:42: worker thread finished; awaiting finish of 3 more threads\n",
      "INFO - 22:39:42: worker thread finished; awaiting finish of 2 more threads\n",
      "INFO - 22:39:42: worker thread finished; awaiting finish of 1 more threads\n",
      "INFO - 22:39:42: worker thread finished; awaiting finish of 0 more threads\n",
      "INFO - 22:39:42: EPOCH - 26 : training on 131166 raw words (77898 effective words) took 0.8s, 95445 effective words/s\n",
      "INFO - 22:39:43: worker thread finished; awaiting finish of 4 more threads\n",
      "INFO - 22:39:43: worker thread finished; awaiting finish of 3 more threads\n",
      "INFO - 22:39:43: worker thread finished; awaiting finish of 2 more threads\n",
      "INFO - 22:39:43: worker thread finished; awaiting finish of 1 more threads\n",
      "INFO - 22:39:43: worker thread finished; awaiting finish of 0 more threads\n",
      "INFO - 22:39:43: EPOCH - 27 : training on 131166 raw words (77988 effective words) took 0.8s, 99608 effective words/s\n",
      "INFO - 22:39:44: worker thread finished; awaiting finish of 4 more threads\n",
      "INFO - 22:39:44: worker thread finished; awaiting finish of 3 more threads\n",
      "INFO - 22:39:44: worker thread finished; awaiting finish of 2 more threads\n",
      "INFO - 22:39:44: worker thread finished; awaiting finish of 1 more threads\n",
      "INFO - 22:39:44: worker thread finished; awaiting finish of 0 more threads\n",
      "INFO - 22:39:44: EPOCH - 28 : training on 131166 raw words (78041 effective words) took 0.8s, 98489 effective words/s\n",
      "INFO - 22:39:45: worker thread finished; awaiting finish of 4 more threads\n",
      "INFO - 22:39:45: worker thread finished; awaiting finish of 3 more threads\n",
      "INFO - 22:39:45: worker thread finished; awaiting finish of 2 more threads\n",
      "INFO - 22:39:45: worker thread finished; awaiting finish of 1 more threads\n",
      "INFO - 22:39:45: worker thread finished; awaiting finish of 0 more threads\n",
      "INFO - 22:39:45: EPOCH - 29 : training on 131166 raw words (78034 effective words) took 0.8s, 99775 effective words/s\n",
      "INFO - 22:39:46: worker thread finished; awaiting finish of 4 more threads\n",
      "INFO - 22:39:46: worker thread finished; awaiting finish of 3 more threads\n",
      "INFO - 22:39:46: worker thread finished; awaiting finish of 2 more threads\n",
      "INFO - 22:39:46: worker thread finished; awaiting finish of 1 more threads\n",
      "INFO - 22:39:46: worker thread finished; awaiting finish of 0 more threads\n",
      "INFO - 22:39:46: EPOCH - 30 : training on 131166 raw words (77947 effective words) took 0.8s, 99119 effective words/s\n",
      "INFO - 22:39:46: training on a 3934980 raw words (2338918 effective words) took 24.2s, 96611 effective words/s\n",
      "INFO - 22:39:46: precomputing L2-norms of word weight vectors\n"
     ]
    },
    {
     "name": "stdout",
     "output_type": "stream",
     "text": [
      "Time to train the model: 0.4 mins\n"
     ]
    }
   ],
   "source": [
    "t = time()\n",
    "\n",
    "w2v_model.train(sentences, total_examples=w2v_model.corpus_count, epochs=30, report_delay=1)\n",
    "\n",
    "print('Time to train the model: {} mins'.format(round((time() - t) / 60, 2)))\n",
    "\n",
    "w2v_model.init_sims(replace=True)"
   ]
  },
  {
   "cell_type": "code",
   "execution_count": 47,
   "metadata": {
    "pycharm": {
     "name": "#%%\n"
    }
   },
   "outputs": [
    {
     "name": "stdout",
     "output_type": "stream",
     "text": [
      "500\n"
     ]
    }
   ],
   "source": [
    "# print(w2v_model.wv.most_similar(positive=[\"torres\"]))\n",
    "#print(w2v_model.wv['liverpool'])\n",
    "print(len(w2v_model.wv['liverpool']))\n"
   ]
  },
  {
   "cell_type": "code",
   "execution_count": 49,
   "metadata": {},
   "outputs": [
    {
     "ename": "IndexError",
     "evalue": "too many indices for array",
     "output_type": "error",
     "traceback": [
      "\u001b[1;31m---------------------------------------------------------------------------\u001b[0m",
      "\u001b[1;31mIndexError\u001b[0m                                Traceback (most recent call last)",
      "\u001b[1;32m<ipython-input-49-d95c3b7b6921>\u001b[0m in \u001b[0;36m<module>\u001b[1;34m\u001b[0m\n\u001b[0;32m      4\u001b[0m \u001b[0morigin\u001b[0m \u001b[1;33m=\u001b[0m \u001b[1;33m[\u001b[0m\u001b[1;36m0\u001b[0m\u001b[1;33m]\u001b[0m\u001b[1;33m,\u001b[0m \u001b[1;33m[\u001b[0m\u001b[1;36m0\u001b[0m\u001b[1;33m]\u001b[0m \u001b[1;31m# origin point\u001b[0m\u001b[1;33m\u001b[0m\u001b[1;33m\u001b[0m\u001b[0m\n\u001b[0;32m      5\u001b[0m \u001b[1;33m\u001b[0m\u001b[0m\n\u001b[1;32m----> 6\u001b[1;33m \u001b[0mplt\u001b[0m\u001b[1;33m.\u001b[0m\u001b[0mquiver\u001b[0m\u001b[1;33m(\u001b[0m\u001b[1;33m*\u001b[0m\u001b[0morigin\u001b[0m\u001b[1;33m,\u001b[0m \u001b[0mw2v_model\u001b[0m\u001b[1;33m.\u001b[0m\u001b[0mwv\u001b[0m\u001b[1;33m[\u001b[0m\u001b[1;34m'liverpool'\u001b[0m\u001b[1;33m]\u001b[0m\u001b[1;33m[\u001b[0m\u001b[1;33m:\u001b[0m\u001b[1;33m,\u001b[0m\u001b[1;36m0\u001b[0m\u001b[1;33m]\u001b[0m\u001b[1;33m,\u001b[0m \u001b[0mw2v_model\u001b[0m\u001b[1;33m.\u001b[0m\u001b[0mwv\u001b[0m\u001b[1;33m[\u001b[0m\u001b[1;34m'liverpool'\u001b[0m\u001b[1;33m]\u001b[0m\u001b[1;33m[\u001b[0m\u001b[1;33m:\u001b[0m\u001b[1;33m,\u001b[0m\u001b[1;36m1\u001b[0m\u001b[1;33m]\u001b[0m\u001b[1;33m,\u001b[0m \u001b[0mcolor\u001b[0m\u001b[1;33m=\u001b[0m\u001b[1;33m[\u001b[0m\u001b[1;34m'r'\u001b[0m\u001b[1;33m,\u001b[0m\u001b[1;34m'b'\u001b[0m\u001b[1;33m,\u001b[0m\u001b[1;34m'g'\u001b[0m\u001b[1;33m]\u001b[0m\u001b[1;33m,\u001b[0m \u001b[0mscale\u001b[0m\u001b[1;33m=\u001b[0m\u001b[1;36m21\u001b[0m\u001b[1;33m)\u001b[0m\u001b[1;33m\u001b[0m\u001b[1;33m\u001b[0m\u001b[0m\n\u001b[0m\u001b[0;32m      7\u001b[0m \u001b[0mplt\u001b[0m\u001b[1;33m.\u001b[0m\u001b[0mshow\u001b[0m\u001b[1;33m(\u001b[0m\u001b[1;33m)\u001b[0m\u001b[1;33m\u001b[0m\u001b[1;33m\u001b[0m\u001b[0m\n",
      "\u001b[1;31mIndexError\u001b[0m: too many indices for array"
     ]
    }
   ],
   "source": [
    "from sklearn.manifold import TSNE\n",
    "\n",
    "# Initialize t-SNE\n",
    "tsne = TSNE(n_components = 2, init = 'random', random_state = 10, perplexity = 100)\n",
    "\n",
    "# Use only 400 rows to shorten processing time\n",
    "tsne_df = tsne.fit_transform(df[:400])\n",
    "\n",
    "sns.set()\n",
    "# Initialize figure\n",
    "fig, ax = plt.subplots(figsize = (11.7, 8.27))\n",
    "sns.scatterplot(tsne_df[:, 0], tsne_df[:, 1], alpha = 0.5)\n",
    "\n",
    "# Import adjustText, initialize list of texts\n",
    "from adjustText import adjust_text\n",
    "texts = []\n",
    "words_to_plot = list(np.arange(0, 400, 10))\n",
    "\n",
    "# Append words to list\n",
    "for word in words_to_plot:\n",
    "    texts.append(plt.text(tsne_df[word, 0], tsne_df[word, 1], df.index[word], fontsize = 14))\n",
    "    \n",
    "# Plot text using adjust_text (because overlapping text is hard to read)\n",
    "adjust_text(texts, force_points = 0.4, force_text = 0.4, \n",
    "            expand_points = (2,1), expand_text = (1,2),\n",
    "            arrowprops = dict(arrowstyle = \"-\", color = 'black', lw = 0.5))\n",
    "\n",
    "plt.show()\n"
   ]
  },
  {
   "cell_type": "code",
   "execution_count": null,
   "metadata": {},
   "outputs": [],
   "source": []
  }
 ],
 "metadata": {
  "kernelspec": {
   "display_name": "Python 3",
   "language": "python",
   "name": "python3"
  },
  "language_info": {
   "codemirror_mode": {
    "name": "ipython",
    "version": 3
   },
   "file_extension": ".py",
   "mimetype": "text/x-python",
   "name": "python",
   "nbconvert_exporter": "python",
   "pygments_lexer": "ipython3",
   "version": "3.7.7"
  },
  "pycharm": {
   "stem_cell": {
    "cell_type": "raw",
    "source": [],
    "metadata": {
     "collapsed": false
    }
   }
  }
 },
 "nbformat": 4,
 "nbformat_minor": 1
}